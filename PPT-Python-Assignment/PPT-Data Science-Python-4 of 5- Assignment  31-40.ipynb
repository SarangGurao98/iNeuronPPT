{
 "cells": [
  {
   "cell_type": "markdown",
   "id": "ce1794bb",
   "metadata": {},
   "source": [
    "# Part 4\n",
    "\n",
    "31. Write a program to find the sum of all even numbers in a list.\n",
    "32. Implement a function to calculate the power of a number using recursion.\n",
    "33. Write a Python program to remove duplicates from a list while preserving the order.\n",
    "34. Implement a function to find the longest common prefix among a list of strings.\n",
    "35. Write a program to check if a given number is a perfect square.\n",
    "36. Implement a function to calculate the product of all elements in a list.\n",
    "37. Write a Python program to reverse the order of words in a sentence while preserving the word order.\n",
    "38. Implement a function to find the missing number in a given list of consecutive numbers.\n",
    "39. Write a program to find the sum of digits of a given number.\n",
    "40. Implement a function to check if a given string is a valid palindrome considering case sensitivity.\n"
   ]
  },
  {
   "cell_type": "code",
   "execution_count": null,
   "id": "6739fc79",
   "metadata": {},
   "outputs": [],
   "source": [
    "#31. Write a program to find the sum of all even numbers in a list.\n",
    "#Input List\n",
    "listNum = [5,6,7,8,9,11,14,15,16,18,21,22,23,24,25]\n",
    "print(f\"Find the sum of all even numbers in a list: {listNum}\")\n",
    "\n",
    "sumEven = 0               #Initialzing output param  \n",
    "for x in listNum:         #Iterating through list\n",
    "    if x%2==0:            #Even = Reminder Zero\n",
    "        sumEven += x      #Adding to output param\n",
    "print(f\"The sum of all even numbers is: {sumEven}\")"
   ]
  },
  {
   "cell_type": "code",
   "execution_count": null,
   "id": "2b5fbb72",
   "metadata": {},
   "outputs": [],
   "source": [
    "#32. Implement a function to calculate the power of a number using recursion.\n",
    "def powNum(num, pow)-> int:\n",
    "    if pow == 0:            #if power is 0. return 1.\n",
    "        return 1\n",
    "    else:\n",
    "        return num*powNum(num, pow-1)\n",
    "\n",
    "num,pow = 2,5  #Output: 8         #Initialize sample #1\n",
    "#num,pow = 5,2 #Output: 25        #Initialize sample #2\n",
    "\n",
    "print(f\"Calculate the power of a number using recursion.\")\n",
    "print(f\"Number:{num}, Power:{pow}\")\n",
    "outNum = powNum(num,pow)\n",
    "print(f\"The answer is:{outNum}\")"
   ]
  },
  {
   "cell_type": "code",
   "execution_count": null,
   "id": "0c73a6fb",
   "metadata": {},
   "outputs": [],
   "source": [
    "#33. Write a Python program to remove duplicates from a list while preserving the order.\n",
    "\n",
    "inlist = [1, 2, 4, 3, 5, 4, 6, 9, 2, 1]                                           #Initialize input sample1\n",
    "#inlist = ['a', 'a', 'b', 'a', 'a', 'c', 'c', 'c', 'd', 'e', 'a', 'b', 'b', 'b']  #Initialize input sample2\n",
    "\n",
    "print(f\"Remove duplicates from a list while preserving the order\")\n",
    "print(f\"{inlist}\")\n",
    "outlist=[]                         #Initialize output param\n",
    "for x in inlist:                   #Iterating list\n",
    "    if x not in outlist:           #if element not in outlist param then add\n",
    "        outlist.append(x)\n",
    "print(f\"The List without duplicates and maintaining order is :{outlist}\")"
   ]
  },
  {
   "cell_type": "code",
   "execution_count": null,
   "id": "3a9c6e14",
   "metadata": {},
   "outputs": [],
   "source": [
    "#34. Implement a function to find the longest common prefix among a list of strings.\n",
    "\n",
    "strlist = ['ineuronforFSWD', 'ineurons', 'ineuron', 'ineuronforFSDS'] # Input Sample #1\n",
    "#strlist =  ['apple', 'ape', 'april']                                 # Input Sample #2\n",
    "print(f\"Find the longest common prefix among a list of strings given below:\")\n",
    "print(f\"List:{strlist}\")\n",
    "\n",
    "preFix = \"\"\n",
    "lenPreFix = len(strlist[0])\n",
    "smallstrlist = \"\"\n",
    "for x in strlist:\n",
    "    if lenPreFix>len(x):\n",
    "        lenPreFix = len(x)\n",
    "        smallstrlist=x\n",
    "#print(f\"Smallest String from list is :{smallstrlist}\")\n",
    "x=-1\n",
    "tempPreFix=smallstrlist\n",
    "boolPreFixFound=False\n",
    "while not boolPreFixFound:\n",
    "    tempPreFix = tempPreFix[:x]\n",
    "    for s in strlist:\n",
    "        if tempPreFix not in s:\n",
    "            boolPreFixFound=True\n",
    "    if not boolPreFixFound:\n",
    "        preFix=tempPreFix\n",
    "        break\n",
    "    if len(tempPreFix)==0:\n",
    "        boolPreFixFound=True\n",
    "        preFix=\"None\"\n",
    "print(f\"The longest common prefix among a list of strings:{preFix}\")"
   ]
  },
  {
   "cell_type": "code",
   "execution_count": null,
   "id": "a6b87fa8",
   "metadata": {},
   "outputs": [],
   "source": [
    "#35. Write a program to check if a given number is a perfect square.\n",
    "\n",
    "intNum =100                   #Input Sample \n",
    "print(f\"Check if a given number {intNum} is a perfect square :\")\n",
    "isPerfectSquare=False         #Output param \n",
    "lastNum = (intNum//2)+1       #Param till check should be done\n",
    "x=1                           #Param from where to start  \n",
    "while not isPerfectSquare and x<=lastNum:     #Continue till we found its perfect square or its out of limit\n",
    "    if x*x == intNum:                         #Check for perfect square\n",
    "        isPerfectSquare=True                  \n",
    "    if isPerfectSquare or (x*x)>intNum:       #break loop if perfect square is known or its out of limit\n",
    "        break\n",
    "    x+=1\n",
    "print(f\"{intNum} is a perfect square? {isPerfectSquare}\")"
   ]
  },
  {
   "cell_type": "code",
   "execution_count": null,
   "id": "7c31b4ed",
   "metadata": {},
   "outputs": [],
   "source": [
    "#36. Implement a function to calculate the product of all elements in a list.\n",
    "\n",
    "numList = [1,2,3,4,5]\n",
    "print(f\"Calculate the product of all elements in a list :{numList}\")\n",
    "outProd = 1\n",
    "for x in numList:\n",
    "    outProd *= x\n",
    "\n",
    "print(f\"The product of element is :{outProd}\")"
   ]
  },
  {
   "cell_type": "code",
   "execution_count": null,
   "id": "1fa0c916",
   "metadata": {},
   "outputs": [],
   "source": [
    "#37. Write a Python program to reverse the order of words in a sentence while preserving the word order.\n",
    "\n",
    "strLine = \"This is a Python Assignment # 37\"\n",
    "print(f\"Reverse the order of words in a sentence while preserving the word order :[{strLine}]\")\n",
    "outstrLine = \"\"\n",
    "temp = \"\"\n",
    "for x in strLine[::-1]:\n",
    "    if ord(x)==32:\n",
    "        outstrLine+= temp+\" \"\n",
    "        temp=\"\"\n",
    "    else:\n",
    "        temp= x+temp\n",
    "if len(temp)!=0:\n",
    "    outstrLine+= temp+\" \"\n",
    "print(f\"Output sentence is :{outstrLine}\")"
   ]
  },
  {
   "cell_type": "code",
   "execution_count": null,
   "id": "2518def0",
   "metadata": {},
   "outputs": [],
   "source": [
    "#38. Implement a function to find the missing number in a given list of consecutive numbers.\n",
    "\n",
    "listNum = [1, 2, 4, 5, 6, 7, 8, 9] # Input Sample #1\n",
    "#listNum = [-4, -3, -1, 0, 1, 2]   # Input Sample #2 \n",
    "#listNum = [1, 2, 3, 4]            # Input Sample #3 \n",
    "print(f\"Find the missing number in a given list of consecutive numbers: {listNum}\")\n",
    "missingNum = listNum[0]                    #Initializing param to first element.\n",
    "foundMissing = False                       #Initializing bool to know if missing number was found.\n",
    "i=1                                        #Initializing param i=1 for iterating list.\n",
    "while not foundMissing and i<len(listNum):\n",
    "    if listNum[i]!=(missingNum+1): \n",
    "        foundMissing = True\n",
    "        break\n",
    "    else:\n",
    "        missingNum = listNum[i]\n",
    "        i+=1\n",
    "if foundMissing:\n",
    "    print(f\"Find the missing number in a given list of consecutive numbers: {missingNum+1}\")\n",
    "else:\n",
    "    print(f\"No missing number found in list of consecutive numbers.\")"
   ]
  },
  {
   "cell_type": "code",
   "execution_count": null,
   "id": "3d1aaca4",
   "metadata": {},
   "outputs": [],
   "source": [
    "#39. Write a program to find the sum of digits of a given number.\n",
    "\n",
    "nums = 5312497689\n",
    "print(f\"Find the sum of digits of a given number :{nums}\")\n",
    "\n",
    "sumDigit=0\n",
    "for x in str(nums):\n",
    "    sumDigit+=int(x)\n",
    "print(f\"The sum of digits of {nums} is {sumDigit}\")"
   ]
  },
  {
   "cell_type": "code",
   "execution_count": 1,
   "id": "b157fd6c",
   "metadata": {},
   "outputs": [
    {
     "name": "stdout",
     "output_type": "stream",
     "text": [
      "Check for palindrome considering case sensitivity: abcdedcBa\n",
      "Considering case sensitivity string \"abcdedcBa\" is palindrome? False\n"
     ]
    }
   ],
   "source": [
    "#40. Implement a function to check if a given string is a valid palindrome considering case sensitivity.\n",
    "palinStr = \"abcdedcBa\"   #Input Sample 1\n",
    "#palinStr = \"ABCdCBA\"    #Input Sample 2 \n",
    "#palinStr = \"ABcDCBA\"    #Input Sample 3\n",
    "print(f\"Check for palindrome considering case sensitivity: {palinStr}\")\n",
    "i=0                                    # Initialzing param i=0 for two way approach\n",
    "j=len(palinStr)-1                      # Initialzing param j=last element of string - for two way approach\n",
    "isPalindrome = True                    # Output - bool param.  True=Palindrome, False= Not Palindrome \n",
    "while i<=j:                            # Iteration loop string from both ways at a time.\n",
    "    if palinStr[i] != palinStr[j]:     # if first and last element are not equal?\n",
    "        isPalindrome = False           # if above is True then set not a palindrome\n",
    "        break                          # break the loop. no need to process further \n",
    "    i+=1                               # increament i counter from left side of string\n",
    "    j-=1                               # decrement j counter from right side of string\n",
    "print(f\"Considering case sensitivity string \\\"{palinStr}\\\" is palindrome? {isPalindrome}\")"
   ]
  }
 ],
 "metadata": {
  "kernelspec": {
   "display_name": "Python 3 (ipykernel)",
   "language": "python",
   "name": "python3"
  },
  "language_info": {
   "codemirror_mode": {
    "name": "ipython",
    "version": 3
   },
   "file_extension": ".py",
   "mimetype": "text/x-python",
   "name": "python",
   "nbconvert_exporter": "python",
   "pygments_lexer": "ipython3",
   "version": "3.9.12"
  }
 },
 "nbformat": 4,
 "nbformat_minor": 5
}
