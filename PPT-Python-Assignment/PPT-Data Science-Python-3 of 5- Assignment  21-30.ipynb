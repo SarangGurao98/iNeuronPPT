{
 "cells": [
  {
   "cell_type": "markdown",
   "id": "0f9a13fb",
   "metadata": {},
   "source": [
    "# Part 3\n",
    "\n",
    "21. Write a Python program to check if two strings are anagrams of each other.\n",
    "22. Implement a function to find the first non-repeating character in a string.\n",
    "23. Write a program to find the prime factors of a given number.\n",
    "24. Implement a function to check if a given number is a power of two.\n",
    "25. Write a Python program to merge two sorted lists into a single sorted list.\n",
    "26. Implement a function to find the mode of a list of numbers.\n",
    "27. Write a program to find the greatest common divisor (GCD) of two numbers.\n",
    "28. Implement a function to calculate the square root of a given number.\n",
    "29. Write a Python program to check if a given string is a valid palindrome ignoring non-alphanumeric characters.\n",
    "30. Implement a function to find the minimum element in a rotated sorted list.\n"
   ]
  },
  {
   "cell_type": "code",
   "execution_count": null,
   "id": "c91025a1",
   "metadata": {},
   "outputs": [],
   "source": [
    "#21. Write a Python program to check if two strings are anagrams of each other.\n",
    "\n",
    "# Please refer question #12 from Assignment"
   ]
  },
  {
   "cell_type": "code",
   "execution_count": null,
   "id": "43f5ff1f",
   "metadata": {},
   "outputs": [],
   "source": [
    "#22. Implement a function to find the first non-repeating character in a string.\n",
    "s = \"algorithm\"\n",
    "#s = \"aacbbc\"\n",
    "print(f\"Find first non-repeating character in a string :{s}\")\n",
    "i,strIndex=0,0\n",
    "while i<len(s):\n",
    "    # We will first replace character at i only once and assign it to temp string\n",
    "    sTemp = s.replace(s[i],\"\",1)\n",
    "    # We will find character at i in temp string.\n",
    "    # if found in temp string, then character at i is repeatable in original string. \n",
    "    # if NOT found in temp string, then character at i is non-repeatable in original string. \n",
    "    strIndex=sTemp.find(s[i])\n",
    "    if strIndex==-1:\n",
    "        break\n",
    "    i+=1\n",
    "if i<len(s):      \n",
    "    print(f\"First non-repeating character from string is :{s[i]}\")\n",
    "else:    \n",
    "    print(\"First non-repeating character from string is :None\")"
   ]
  },
  {
   "cell_type": "code",
   "execution_count": null,
   "id": "05af83d1",
   "metadata": {},
   "outputs": [],
   "source": [
    "#23. Write a program to find the prime factors of a given number.\n",
    "#Input nums for which prime factors need to find. Should be positive integer greater than 1.\n",
    "nums = 72\n",
    "print(f\"find the prime factors of a given number:{nums}\")\n",
    "factors, primeFactor = [],[]       #Initializing params for factors and prime factor\n",
    "factor = 2                         #Initializing first factor=2\n",
    "reminder = nums                    #Initializing reminders\n",
    "while nums>1:                      #Processing continue till input nums==1 that is when all factors are known.\n",
    "    reminder = nums%factor         #assigning reminder = nums%factors. \n",
    "    if reminder == 0:              #if reminder ==0 that means factors is valid for nums\n",
    "        factors.append(factor)\n",
    "        if factor not in primeFactor:\n",
    "            primeFactor.append(factor) # Adding unique factors to primefactor list\n",
    "        nums = nums//factor            # changing nums to new value nums = nums//factor as we need integers ONLY.\n",
    "    else:\n",
    "        factor+=1                      # if reminder != 0, it mean not valid factor. Increatment by 1 and reprocess.\n",
    "print(f\"The factors are:{factors}\")\n",
    "print(f\"The prime factors are:{primeFactor}\")"
   ]
  },
  {
   "cell_type": "code",
   "execution_count": null,
   "id": "ee86d18c",
   "metadata": {},
   "outputs": [],
   "source": [
    "#24. Implement a function to check if a given number is a power of two.\n",
    "\n",
    "nums=100\n",
    "print(f\"Check if a given number is a power of two :{nums}\")\n",
    "\n",
    "isPowerOfTwo = False\n",
    "x=1\n",
    "while x<=(nums//2+1):\n",
    "    xSquare = x*x\n",
    "    if xSquare == nums:\n",
    "        isPowerOfTwo = True\n",
    "        break\n",
    "    if xSquare>nums:\n",
    "        break\n",
    "    x+=1\n",
    "print(f\"Given number {nums} is a power of two? {isPowerOfTwo}\")"
   ]
  },
  {
   "cell_type": "code",
   "execution_count": null,
   "id": "8f59c07d",
   "metadata": {},
   "outputs": [],
   "source": [
    "#25. Write a Python program to merge two sorted lists into a single sorted list.\n",
    "from itertools import combinations\n",
    "\n",
    "listA = [1,5,8,10,121]            #Input list A\n",
    "listB = [2,7,9,11,59,65,77]       #Input list B\n",
    "print(f\"Merge two sorted list into a single sorted list \")\n",
    "print(f\"List A :{listA}\")\n",
    "print(f\"List B :{listB}\")\n",
    " \n",
    "listA.extend(listB)                                # Merging list A,B\n",
    "for i,j in combinations(range(len(listA)), r=2):   # By combination sorting list in Ascending order.\n",
    "    if listA[i]>listA[j]:                          # swapping the elements\n",
    "        temp = listA[i]\n",
    "        listA[i]=listA[j]\n",
    "        listA[j]=temp\n",
    "print(f\"Merged sorted list :{len(listA)}:{listA}\")\n"
   ]
  },
  {
   "cell_type": "code",
   "execution_count": null,
   "id": "14933b42",
   "metadata": {},
   "outputs": [],
   "source": [
    "#26. Implement a function to find the mode of a list of numbers.\n",
    "\n",
    "inList = [10,20,30,40,50,20,30,50,30]                #Initialize input\n",
    "print(f\"Find the mode of a list :{inList}\")\n",
    "mDict = {}                                           #Initialize dictionary for element:Occurance as Key:Value from list.  \n",
    "for num in inList:                                   #Populating dictionary from list  \n",
    "    if num not in mDict:\n",
    "        mDict[num] =1\n",
    "    else:\n",
    "        mDict[num] = mDict.get(num)+1\n",
    "modeL,modeLcount = 0,0                               #Initialize param for Mode and Element Count\n",
    "for key in mDict:                                    #Fetching result for output\n",
    "    if mDict[key]>modeLcount:\n",
    "        modeL = key\n",
    "        modeLcount = mDict[key]\n",
    "print(f\"Mode of list :{modeL}\")        "
   ]
  },
  {
   "cell_type": "code",
   "execution_count": null,
   "id": "7947afb8",
   "metadata": {},
   "outputs": [],
   "source": [
    "#27. Write a program to find the greatest common divisor (GCD) of two numbers.\n",
    "\n",
    "nums1 = 72\n",
    "nums2 = 108\n",
    "print(f\"find the GCD of two numbers:{nums1}, {nums2}\")\n",
    "factors=[]                              #Initializing params for factors and prime factor\n",
    "factor = 2                              #Initializing first factor=2\n",
    "reminder1,reminder2 = 0,0               #Initializing reminders\n",
    "while nums1>=factor or nums2>=factor:   #Processing continue till input nums==1 that is when all factors are known.\n",
    "    #assigning reminder = nums%factors. \n",
    "    reminder1 = nums1%factor\n",
    "    reminder2 = nums2%factor\n",
    "    #if reminder ==0 that means factors is valid for nums\n",
    "    if reminder1 == 0 and reminder2 == 0:     \n",
    "        factors.append(factor)\n",
    "        # changing nums to new value nums = nums//factor as we need integers ONLY.\n",
    "        nums1 = nums1//factor            \n",
    "        nums2 = nums2//factor            \n",
    "    else:\n",
    "        #Increament factor by 1\n",
    "        factor+=1                      \n",
    "print(f\"The factors are:{factors}\")\n",
    "gcdNum = 1\n",
    "#Calculating GCD from factors\n",
    "for x in factors:                         \n",
    "    gcdNum=gcdNum*x\n",
    "print(f\"The GCD  of two numbers is :{gcdNum}\")    "
   ]
  },
  {
   "cell_type": "code",
   "execution_count": null,
   "id": "98ed422e",
   "metadata": {},
   "outputs": [],
   "source": [
    "#28. Implement a function to calculate the square root of a given number.\n",
    "import math\n",
    "num = 81\n",
    "print(f\"To calculate the square root of a number:{num}\")\n",
    "sqNum = math.pow(num, 0.5)\n",
    "print(f\"The square root of {num} is {sqNum}\")"
   ]
  },
  {
   "cell_type": "code",
   "execution_count": null,
   "id": "1ece20b8",
   "metadata": {},
   "outputs": [],
   "source": [
    "#29. Write a Python program to check if a given string is a valid palindrome ignoring non-alphanumeric characters.\n",
    "\n",
    "#s = \"ma&lay%alam\"      #Initialize input sample1\n",
    "s = \"d#ei&fi&e-d*\"      #Initialize input sample2  \n",
    "print(f\"Check if a given string is a valid palindrome ignoring non-alphanumeric characters : {s}\")\n",
    "isPallindrome = True\n",
    "i = 0\n",
    "j = len(s)-1\n",
    "while i<=j:\n",
    "    while not s[i].isalpha():\n",
    "        i+=1\n",
    "    while not s[j].isalpha():\n",
    "        j-=1\n",
    "    if s[i]!=s[j]:\n",
    "        isPallindrome = False\n",
    "        break\n",
    "    i+=1\n",
    "    j-=1\n",
    "print(f\"Valid palindrome {s} ? :{isPallindrome}\")"
   ]
  },
  {
   "cell_type": "code",
   "execution_count": null,
   "id": "e0b31672",
   "metadata": {},
   "outputs": [],
   "source": [
    "#30. Implement a function to find the minimum element in a rotated sorted list.\n",
    "\n",
    "list_rotated = [4, 5, 6, 7, 1, 2, 3]\n",
    "print(f\"Find the minimum element in a rotated sorted list : {list_rotated}\")\n",
    "i=0\n",
    "j=len(list_rotated)-1\n",
    "minElement = list_rotated[0]\n",
    "for num in list_rotated:\n",
    "    if num<minElement:\n",
    "        minElement = num\n",
    "print(f\"Minimum element is: {minElement}\")"
   ]
  }
 ],
 "metadata": {
  "kernelspec": {
   "display_name": "Python 3 (ipykernel)",
   "language": "python",
   "name": "python3"
  },
  "language_info": {
   "codemirror_mode": {
    "name": "ipython",
    "version": 3
   },
   "file_extension": ".py",
   "mimetype": "text/x-python",
   "name": "python",
   "nbconvert_exporter": "python",
   "pygments_lexer": "ipython3",
   "version": "3.9.12"
  }
 },
 "nbformat": 4,
 "nbformat_minor": 5
}
