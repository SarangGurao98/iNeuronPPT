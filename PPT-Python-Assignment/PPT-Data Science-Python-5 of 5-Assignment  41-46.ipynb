{
 "cells": [
  {
   "cell_type": "markdown",
   "id": "101bd584",
   "metadata": {},
   "source": [
    "# Part 5\n",
    "\n",
    "41. Write a Python program to find the smallest missing positive integer in a list.\n",
    "42. Implement a function to find the longest palindrome substring in a given string.\n",
    "43. Write a program to find the number of occurrences of a given element in a list.\n",
    "44. Implement a function to check if a given number is a perfect number.\n",
    "45. Write a Python program to remove all duplicates from a string.\n",
    "46. Implement a function to find the first missing positive\n"
   ]
  },
  {
   "cell_type": "markdown",
   "id": "285e08e9",
   "metadata": {},
   "source": [
    "### 41. Write a Python program to find the smallest missing positive integer in a list."
   ]
  },
  {
   "cell_type": "code",
   "execution_count": null,
   "id": "c2983e9d",
   "metadata": {},
   "outputs": [],
   "source": [
    "#41. Write a Python program to find the smallest missing positive integer in a list.\n",
    "\n",
    "listNum = [2, 3, 7, 6, 8, -1, -10, 15]  #Input Sample #1 - Output=1\n",
    "#listNum = [2, 3, -7, 6, 8, 1, -10, 15] #Input Sample #2 - Output=4\n",
    "#listNum = [1, 2, 0, -1, -2]             #Input Sample #3 - Output=3\n",
    "print(f\"Find the smallest missing positive integer in a list\")\n",
    "print(listNum)\n",
    "\n",
    "listNum.sort()                           #Sorting list\n",
    "missingNum = 1                           #Output param \n",
    "for x in listNum:                        #Iterating listNum\n",
    "    if x>0:                              #As we have find only missing positive integer\n",
    "        if x!=missingNum:                #if x!=missingNum, will happen only when missing number. \n",
    "            break\n",
    "        else:\n",
    "            missingNum+=1                #if matching, increment missingNum \n",
    "print(f\"The smallest missing positive integer in a list is :{missingNum}\")"
   ]
  },
  {
   "cell_type": "markdown",
   "id": "03ba4185",
   "metadata": {},
   "source": [
    "### 42. Implement a function to find the longest palindrome substring in a given string."
   ]
  },
  {
   "cell_type": "code",
   "execution_count": null,
   "id": "83cfb837",
   "metadata": {},
   "outputs": [],
   "source": [
    "#42. Implement a function to find the longest palindrome substring in a given string.\n",
    "\n",
    "str = 'forgeeksskeegfor' #Input Sample #1 - Output='geeksskeeg'\n",
    "#str = 'Geeks'            #Input Sample #2 - Output='ee'\n",
    "print(f\"Find the longest palindrome substring in a given string :{str}\")\n",
    "\n",
    "paliStr,largestpaliStr = \"\",\"\"       #Initializing paliStr = for palindrome, largestpaliStr= for longest palindrome\n",
    "for i in range(len(str)):            #Iterating input string from i=0 \n",
    "    for j in range(i+2,len(str),1):  #Iterating input string from j=i+2, As ignoring single character as pallindrome \n",
    "        if str[i]==str[j-1]:         #proceeding only if character first=i and last=j of str is same. possible palindrome.\n",
    "            tempStr = str[i:j]       #Slicing string - to check further if actually a palindrome\n",
    "            if len(tempStr)>len(largestpaliStr): #proceed if current string is greater than previously find pallindrome.  \n",
    "                x,y,isPallindrome = 0,len(tempStr)-1,True   #initialize params for logic\n",
    "                while x<=y and isPallindrome:               #check for palindrome\n",
    "                    if tempStr[x]!=tempStr[y]:              #if char - x form begining, y from ending - are equal\n",
    "                        isPallindrome=False                 #if not equal - set flag isPallindrome=false\n",
    "                    x+=1                                    #increment x \n",
    "                    y-=1                                    #decrement y \n",
    "                if isPallindrome:                           #if current slice string is palindrome. \n",
    "                    paliStr=tempStr\n",
    "                if len(paliStr)>len(largestpaliStr):        #if current slice string is largest palindrome\n",
    "                    largestpaliStr = paliStr\n",
    "print(f\"The longest palindrome substring is :{largestpaliStr}\")"
   ]
  },
  {
   "cell_type": "markdown",
   "id": "bd70ab85",
   "metadata": {},
   "source": [
    "### 43. Write a program to find the number of occurrences of a given element in a list."
   ]
  },
  {
   "cell_type": "code",
   "execution_count": null,
   "id": "24a1b615",
   "metadata": {},
   "outputs": [],
   "source": [
    "#43. Write a program to find the number of occurrences of a given element in a list.\n",
    "listNum = [1,2,3,4,1,3,5,2,4,5,3,5]\n",
    "print(f\"Find the number of occurrences of a given element in a list :{listNum}\")\n",
    "dictNum = {}\n",
    "for x in listNum:\n",
    "    if x not in dictNum:\n",
    "        dictNum[x]=1\n",
    "    else:\n",
    "        dictNum[x]=dictNum.get(x)+1\n",
    "print(f\"Element : Occurrences\")        \n",
    "for y in dictNum:\n",
    "    print(f\"    {y}  :  {dictNum[y]}\")        "
   ]
  },
  {
   "cell_type": "markdown",
   "id": "5cdbd4c4",
   "metadata": {},
   "source": [
    "### 44. Implement a function to check if a given number is a perfect number."
   ]
  },
  {
   "cell_type": "code",
   "execution_count": null,
   "id": "8341b3be",
   "metadata": {},
   "outputs": [],
   "source": [
    "#44. Implement a function to check if a given number is a perfect number.\n",
    "\n",
    "num=12                  #Input Sample 1 Output=Not perfect number\n",
    "#num=6                  #Input Sample 2 Output=perfect number\n",
    "print(f\"Check if a given number is a perfect number :{num}\")\n",
    "\n",
    "sumOfFactor = 0                             # initialize param for sum of all factors\n",
    "for factor in range(1,1+(num//2),1):        # iterating for factors of num\n",
    "    if num%factor==0:                   \n",
    "        sumOfFactor+=factor                 # if factor of num, adding to sumOfFactor\n",
    "# if sum of factors of a number is equal to number itself then its perfect number.\n",
    "if sumOfFactor==num:                        \n",
    "    print(f\"Number {num} is a perfect number\")\n",
    "else:\n",
    "    print(f\"Number {num} is NOT a perfect number\")"
   ]
  },
  {
   "cell_type": "markdown",
   "id": "efc78a87",
   "metadata": {},
   "source": [
    "### 45. Write a Python program to remove all duplicates from a string."
   ]
  },
  {
   "cell_type": "code",
   "execution_count": null,
   "id": "914cdfd0",
   "metadata": {},
   "outputs": [],
   "source": [
    "#45. Write a Python program to remove all duplicates from a string.\n",
    "\n",
    "str = \"ineuronoffsdsbyineuron\"                         # input sample\n",
    "print(f\"Remove all duplicates from a string :{str}\")\n",
    "noDupStr = \"\"                                          # initialize output param for string with no duplicate\n",
    "for s in str:                                          # iterate through str\n",
    "    if s not in noDupStr:                              # if char not in noDupStr, then add char\n",
    "        noDupStr+=s\n",
    "print(f\"Output :{noDupStr}\")"
   ]
  },
  {
   "cell_type": "markdown",
   "id": "88e99f32",
   "metadata": {},
   "source": [
    "### 46. Implement a function to find the first missing positive"
   ]
  },
  {
   "cell_type": "code",
   "execution_count": null,
   "id": "c92d88fa",
   "metadata": {},
   "outputs": [],
   "source": [
    "#46. Implement a function to find the first missing positive\n",
    "\n",
    "# Please refer #41 - It seems problem repeated."
   ]
  }
 ],
 "metadata": {
  "kernelspec": {
   "display_name": "Python 3 (ipykernel)",
   "language": "python",
   "name": "python3"
  },
  "language_info": {
   "codemirror_mode": {
    "name": "ipython",
    "version": 3
   },
   "file_extension": ".py",
   "mimetype": "text/x-python",
   "name": "python",
   "nbconvert_exporter": "python",
   "pygments_lexer": "ipython3",
   "version": "3.9.12"
  }
 },
 "nbformat": 4,
 "nbformat_minor": 5
}
