{
 "cells": [
  {
   "cell_type": "code",
   "execution_count": null,
   "id": "bb41d4ab",
   "metadata": {},
   "outputs": [],
   "source": [
    "\"\"\"\n",
    "Question 1\n",
    "\n",
    "Move Zeroes\n",
    "Given an integer array nums, move all 0's to the end of it while maintaining the relative order of the non-zero elements.\n",
    "\n",
    "Note that you must do this in-place without making a copy of the array.\n",
    "\n",
    "Example 1:\n",
    "Input: nums = [0,1,0,3,12]\n",
    "Output: [1,3,12,0,0]\n",
    "\n",
    "Example 2:\n",
    "Input: nums = [0]\n",
    "Output: [0]\n",
    "\n",
    "Constraints:\n",
    "a. 1 <= nums.length <= 10^4\n",
    "b. -2^31 <= nums[i] <= 2^31 - 1\n",
    "Note: Create a GitHub file for the solution and add the file link the the answer section below.\n",
    "\n",
    "\"\"\"\n",
    "arr_nums = [0,1,0,3,12]\n",
    "#arr_nums = [0]\n",
    "# Expected Output: [1,3,12,0,0]\n",
    "print(\"Input array :\", arr_nums)\n",
    "i = 0\n",
    "while  i<= (len(arr_nums)-1):\n",
    "    if arr_nums[i] == 0:\n",
    "        arr_nums.pop(i)\n",
    "        arr_nums.insert(len(arr_nums),0)\n",
    "    i+=1\n",
    "print(\"Output array :\", arr_nums)"
   ]
  },
  {
   "cell_type": "code",
   "execution_count": 75,
   "id": "0777d7bc",
   "metadata": {},
   "outputs": [
    {
     "name": "stdout",
     "output_type": "stream",
     "text": [
      "Input String loveleetcode\n",
      "Chart At 2\n"
     ]
    }
   ],
   "source": [
    "\"\"\"\n",
    "Question 2\n",
    "First Unique Character in a String\n",
    "Given a string s, find the first non-repeating character in it and return its index. If it does not exist, return -1.\n",
    "\n",
    "Example 1:\n",
    "Input: s = \"leetcode\"\n",
    "Output: 0\n",
    "\n",
    "Example 2:\n",
    "Input: s = \"loveleetcode\"\n",
    "Output: 2\n",
    "\n",
    "Example 3:\n",
    "Input: s = \"aabb\"\n",
    "Output: -1\n",
    "\n",
    "Constraints:\n",
    "a. 1 <= s.length <= 10^5\n",
    "b. s consists of only lowercase English letters.\n",
    "\n",
    "Note: Create a GitHub file for the solution and add the file link the the answer section below.\n",
    "\"\"\"\n",
    "\n",
    "inputString = \"leetcode\"\n",
    "#inputString = \"loveleetcode\"\n",
    "#inputString = \"aabb\"\n",
    "print(\"Input String\", inputString)\n",
    "# Output: 0 [First alphabet l]\n",
    "\n",
    "nonRepeatingFound = False\n",
    "i = 0\n",
    "chartAt = ''\n",
    "while not nonRepeatingFound and i!=len(inputString):\n",
    "    charAt = inputString[i]\n",
    "    nextRange = range(0,len(inputString))\n",
    "    for j in nextRange:\n",
    "        if i!=j:\n",
    "            if hex(id(charAt)) == hex(id(inputString[j])):\n",
    "                nonRepeatingFound = True\n",
    "    if not nonRepeatingFound:\n",
    "        nonRepeatingFound = True\n",
    "    else:\n",
    "        i+=1\n",
    "        nonRepeatingFound = False\n",
    "\n",
    "if nonRepeatingFound:\n",
    "    print(\"Chart At\", i)\n",
    "else:\n",
    "    i= '-1'\n",
    "    print(\"Chart At\", i)\n",
    "\n",
    "\n"
   ]
  },
  {
   "cell_type": "code",
   "execution_count": null,
   "id": "83b03719",
   "metadata": {},
   "outputs": [],
   "source": []
  },
  {
   "cell_type": "code",
   "execution_count": null,
   "id": "c4603371",
   "metadata": {},
   "outputs": [],
   "source": []
  }
 ],
 "metadata": {
  "kernelspec": {
   "display_name": "Python 3 (ipykernel)",
   "language": "python",
   "name": "python3"
  },
  "language_info": {
   "codemirror_mode": {
    "name": "ipython",
    "version": 3
   },
   "file_extension": ".py",
   "mimetype": "text/x-python",
   "name": "python",
   "nbconvert_exporter": "python",
   "pygments_lexer": "ipython3",
   "version": "3.9.12"
  }
 },
 "nbformat": 4,
 "nbformat_minor": 5
}
