{
 "cells": [
  {
   "cell_type": "markdown",
   "id": "b6a4ef4f",
   "metadata": {},
   "source": [
    "# PPT - DSA - Mock Test 2 - Python\n",
    "\n",
    "## Sarang A Gurao\n",
    "\n",
    "### gurao.sarang@gmail.com"
   ]
  },
  {
   "cell_type": "code",
   "execution_count": 10,
   "id": "1db38b6d",
   "metadata": {},
   "outputs": [
    {
     "name": "stdout",
     "output_type": "stream",
     "text": [
      "Input x: 8\n",
      "Output :2\n"
     ]
    }
   ],
   "source": [
    "\"\"\"\n",
    "Question 1\n",
    "Given a non-negative integer x, return the square root of x rounded down to the nearest integer. \n",
    "The returned integer should be non-negative as well. You must not use any built-in exponent function or operator. \n",
    "\n",
    "Example 1:\n",
    "Input: x = 4 Output: 2 Explanation: The square root of 4 is 2, so we return 2.\n",
    "Example 2:\n",
    "Input: x = 8 Output: 2 Explanation: The square root of 8 is 2.82842..., \n",
    "and since we round it down to the nearest integer, 2 is returned.\n",
    "\n",
    "Constraints:\n",
    "0 <= x <= 2^31 - 1\n",
    "Note: Create a GitHub file for the solution and add the file link the the answer section below.\n",
    "\"\"\"\n",
    "x = 8\n",
    "print(f\"Input x: {x}\")\n",
    "ans = 0\n",
    "i = 0\n",
    "j = 1\n",
    "found = False\n",
    "while not found:\n",
    "    num1 = i*i\n",
    "    num2 = j*j\n",
    "    if num1<=x<=num2:\n",
    "        found = True\n",
    "        ans = i\n",
    "        if x == num2:\n",
    "            ans = j\n",
    "    else:\n",
    "        i+=1\n",
    "        j+=1\n",
    "\n",
    "print(f\"Output :{ans}\")\n"
   ]
  },
  {
   "cell_type": "code",
   "execution_count": 73,
   "id": "e183cd1f",
   "metadata": {},
   "outputs": [
    {
     "name": "stdout",
     "output_type": "stream",
     "text": [
      "Input Linkedlist 1:342\n",
      "Input Linkedlist 2:465\n",
      "Output Linked List: 7 0 8 "
     ]
    }
   ],
   "source": [
    "\"\"\"\n",
    "Question 2:\n",
    "You are given two non-empty linked lists representing two non-negative integers. \n",
    "The digits are stored in reverse order, and each of their nodes contains a single digit. \n",
    "Add the two numbers and return the sum as a linked list.\n",
    "You may assume the two numbers do not contain any leading zero, except the number 0 itself.\n",
    "\n",
    "Example 1:\n",
    "Input: l1 = [2,4,3], l2 = [5,6,4] Output: [7,0,8] Explanation: 342 + 465 = 807.\n",
    "Example 2:\n",
    "Input: l1 = [0], l2 = [0] Output: [0]\n",
    "Example 3:\n",
    "Input: l1 = [9,9,9,9,9,9,9], l2 = [9,9,9,9] Output: [8,9,9,9,0,0,0,1]\n",
    "\n",
    "Constraints:\n",
    "The number of nodes in each linked list is in the range [1, 100].\n",
    "0 <= Node.val <= 9 It is guaranteed that the list represents a number that does not have leading zeros.\n",
    "Note: Create a GitHub file for the solution and add the file link the the answer section below.\n",
    "\"\"\"\n",
    "\n",
    "class ListNode:\n",
    "    def __init__(self, val):\n",
    "        self.val = val\n",
    "        self.next = None\n",
    "         \n",
    "# return a newnode\n",
    "def newNode(key):\n",
    "    return ListNode(key)\n",
    " \n",
    "#Created ListNode 1\n",
    "a = ListNode(2)\n",
    "a.next = ListNode(4)\n",
    "a.next.next = ListNode(3)\n",
    "#Created ListNode 2\n",
    "b = ListNode(5)\n",
    "b.next = ListNode(6)\n",
    "b.next.next = ListNode(4)\n",
    "\n",
    "# Actual Code \n",
    "v1 = []\n",
    "while(a is not None):\n",
    "    v1.append(a.val)\n",
    "    a = a.next\n",
    "v2 = []    \n",
    "while(b is not None):\n",
    "    v2.append(b.val)\n",
    "    b = b.next\n",
    "\n",
    "v1 = v1[::-1]\n",
    "v2 = v2[::-1]\n",
    "\n",
    "str1=\"\"\n",
    "for i in v1:\n",
    "    str1+=str(i)\n",
    "print(f\"Input Linkedlist 1:{str1}\")    \n",
    "str2=\"\"\n",
    "for i in v2:\n",
    "    str2+=str(i)\n",
    "print(f\"Input Linkedlist 2:{str2}\")        \n",
    "\n",
    "add = int(str1) +  int(str2)      \n",
    "addStr = str(add)\n",
    "addStr = addStr[::-1]\n",
    "\n",
    "OutputHead = OutputCurrent = ListNode(0)\n",
    "for i in range(len(addStr)):\n",
    "    if i==0:\n",
    "        OutputHead = OutputCurrent = ListNode(addStr[i])\n",
    "    else:\n",
    "        OutputCurrent.next = ListNode(addStr[i])\n",
    "        OutputCurrent = OutputCurrent.next\n",
    "\n",
    "# Print output linked list\n",
    "print(\"Output Linked List:\",end=\" \")\n",
    "node1 = OutputHead\n",
    "while node1:\n",
    "    print(f\"{node1.val}\",end=\" \")\n",
    "    node1 = node1.next\n",
    "\n"
   ]
  },
  {
   "cell_type": "code",
   "execution_count": null,
   "id": "979240fa",
   "metadata": {},
   "outputs": [],
   "source": []
  }
 ],
 "metadata": {
  "kernelspec": {
   "display_name": "Python 3 (ipykernel)",
   "language": "python",
   "name": "python3"
  },
  "language_info": {
   "codemirror_mode": {
    "name": "ipython",
    "version": 3
   },
   "file_extension": ".py",
   "mimetype": "text/x-python",
   "name": "python",
   "nbconvert_exporter": "python",
   "pygments_lexer": "ipython3",
   "version": "3.9.12"
  }
 },
 "nbformat": 4,
 "nbformat_minor": 5
}
