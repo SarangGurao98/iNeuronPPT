{
 "cells": [
  {
   "cell_type": "markdown",
   "id": "5b5c57ee",
   "metadata": {},
   "source": [
    "# Assignment 1\n",
    "\n",
    "## Sarang Gurao\n",
    "\n",
    "### gurao.sarang@gmail.com"
   ]
  },
  {
   "cell_type": "markdown",
   "id": "d760011c",
   "metadata": {},
   "source": [
    "### Question 1 "
   ]
  },
  {
   "cell_type": "code",
   "execution_count": null,
   "id": "ccefb881",
   "metadata": {},
   "outputs": [],
   "source": [
    "\"\"\"\n",
    "Q1. Given an array of integers nums and an integer target, return indices of the two numbers such that \n",
    "they add up to target. You may assume that each input would have exactly one solution, and you may not \n",
    "use the same element twice. You can return the answer in any order.\n",
    "Example:\n",
    "Input: nums = [2,7,11,15], target = 9\n",
    "Output: [0,1]\n",
    "**Explanation:** Because nums[0] + nums[1] == 9, we return [0, 1][\n",
    "\"\"\"\n",
    "#Input parameter\n",
    "nums,target = [2,7,11,15],9\n",
    "print(f\"Array of Integer:{nums}, Taget:{target}\")\n",
    "#Output parameter initialize\n",
    "outIndex = [0]*2\n",
    "for i in range(len(nums)-1,-1,-1):         # Iterating nums in reverse order by index i\n",
    "    diff = target - nums[i]                # set difference diff = target - nums[i]\n",
    "    if diff in nums:                       # search for diff in nums  \n",
    "        temp = nums.index(diff)\n",
    "        if i!=temp:                        # num[i] and search element should not be same.\n",
    "            outIndex[0] = temp             # set output list \n",
    "            outIndex[1] = i\n",
    "            break\n",
    "print(f\"Output :{outIndex}\")"
   ]
  },
  {
   "cell_type": "markdown",
   "id": "35d8e64e",
   "metadata": {},
   "source": [
    "### Question 2 "
   ]
  },
  {
   "cell_type": "code",
   "execution_count": null,
   "id": "6ca57ce1",
   "metadata": {},
   "outputs": [],
   "source": [
    "\"\"\"\n",
    "Q2. Given an integer array nums and an integer val, remove all occurrences of val in nums in-place. \n",
    "The order of the elements may be changed. Then return the number of elements in nums which are not equal to val.\n",
    "Consider the number of elements in nums which are not equal to val be k, to get accepted, \n",
    "you need to do the following things:\n",
    "- Change the array nums such that the first k elements of nums contain the elements which are not equal to val. \n",
    "   The remaining elements of nums are not important as well as the size of nums.\n",
    "- Return k.\n",
    "Example :\n",
    "Input: nums = [3,2,2,3], val = 3\n",
    "Output: 2, nums = [2,2,_*,_*]\n",
    "Explanation: Your function should return k = 2, with the first two elements of nums being 2. \n",
    "It does not matter what you leave beyond the returned k (hence they are underscores)[\n",
    "\"\"\"\n",
    "\n",
    "nums, val  = [3,2,2,3], 3\n",
    "print(f\"Input Array nums:{nums}, remove value:{val}\")\n",
    "\n",
    "# Initialize k = length of nums list\n",
    "k=len(nums)    \n",
    "\n",
    "# Replace val in nums and change it to '_'\n",
    "for i in range(len(nums)):\n",
    "    if nums[i] == val:\n",
    "        nums[i] ='_'\n",
    "        k = k - 1 # Decrement value of k for each change \n",
    "\n",
    "# Searching '_' from start and looking for number from last and replacing them\n",
    "j=len(nums)-1\n",
    "for i in range(len(nums)):\n",
    "    if nums[i] in ['_']:\n",
    "        while j>i and (nums[j] in ['_']):\n",
    "            j-=1\n",
    "        nums[i] = nums[j]\n",
    "        nums[j] ='_'\n",
    "print(f\"Output -> k:{k}, nums:{nums}\")"
   ]
  },
  {
   "cell_type": "markdown",
   "id": "cc681a38",
   "metadata": {},
   "source": [
    "### Question 3 "
   ]
  },
  {
   "cell_type": "code",
   "execution_count": null,
   "id": "94c96c10",
   "metadata": {},
   "outputs": [],
   "source": [
    "\"\"\"\n",
    "Q3. Given a sorted array of distinct integers and a target value, return the index if the target is found. \n",
    "If not, return the index where it would be if it were inserted in order.\n",
    "You must write an algorithm with O(log n) runtime complexity.\n",
    "Example 1:\n",
    "Input: nums = [1,3,5,6], target = 5\n",
    "Output: 2\n",
    "\"\"\"\n",
    "# Input values \n",
    "nums, target = [1,3,5,6], 5\n",
    "print(f\"Sorted array of distinct integers:{nums}, Target value:{nums}\")\n",
    "# Initialize param for code\n",
    "targetIndex,i,j,count = 0,0,len(nums)-1,0\n",
    "# As we have write O[logN] RC - we will impletement divide and rule logic\n",
    "while i<j: \n",
    "    m = ((i+j)//2)\n",
    "    if nums[m]==target:\n",
    "        targetIndex=m\n",
    "        break\n",
    "    elif target>nums[m]:\n",
    "        i=m\n",
    "    elif target<nums[m]:\n",
    "        j=m\n",
    "    if (j-i)==1:    \n",
    "        break\n",
    "if (j-i)==1 or i==j:\n",
    "    if target>nums[j]:\n",
    "        targetIndex=j+1\n",
    "    elif target>nums[i]:\n",
    "        targetIndex=j\n",
    "    else:\n",
    "        targetIndex=i\n",
    "print(f\"Target index:{targetIndex}\")"
   ]
  },
  {
   "cell_type": "markdown",
   "id": "63dd65a1",
   "metadata": {},
   "source": [
    "### Question 4 "
   ]
  },
  {
   "cell_type": "code",
   "execution_count": null,
   "id": "f24cb1ec",
   "metadata": {},
   "outputs": [],
   "source": [
    "\"\"\"\n",
    "Q4. You are given a large integer represented as an integer array digits, \n",
    "where each digits[i] is the ith digit of the integer. \n",
    "The digits are ordered from most significant to least significant in left-to-right order. \n",
    "The large integer does not contain any leading 0's.\n",
    "Increment the large integer by one and return the resulting array of digits.\n",
    "Example 1:\n",
    "Input: digits = [1,2,3]\n",
    "Output: [1,2,4]\n",
    "Explanation: The array represents the integer 123. Incrementing by one gives 123 + 1 = 124.\n",
    "Thus, the result should be [1,2,4].\n",
    "\"\"\"\n",
    "\n",
    "digits = [1,2,3]\n",
    "print(f\"Integer array digits    :{digits}\")\n",
    "nums=\"\".join(str(num) for num in digits)\n",
    "digitNum = (int)(nums)\n",
    "digitNum +=1\n",
    "x = [(int)(i) for i in (str)(digitNum)] \n",
    "print(f\"Integer array digits + 1:{x}\")"
   ]
  },
  {
   "cell_type": "markdown",
   "id": "ab78c36a",
   "metadata": {},
   "source": [
    "### Question 5 "
   ]
  },
  {
   "cell_type": "code",
   "execution_count": null,
   "id": "c36b4a5c",
   "metadata": {},
   "outputs": [],
   "source": [
    "\"\"\"\n",
    "Q5. You are given two integer arrays nums1 and nums2, sorted in non-decreasing order, and two integers m and n, \n",
    "representing the number of elements in nums1 and nums2 respectively. Merge nums1 and nums2 into a single array sorted \n",
    "in non-decreasing order.\n",
    "The final sorted array should not be returned by the function, but instead be stored inside the array nums1. \n",
    "To accommodate this, nums1 has a length of m + n, where the first m elements denote the elements that should be merged, \n",
    "and the last n elements are set to 0 and should be ignored. nums2 has a length of n.\n",
    "Example 1:\n",
    "Input: nums1 = [1,2,3,0,0,0], m = 3, nums2 = [2,5,6], n = 3\n",
    "Output: [1,2,2,3,5,6]\n",
    "Explanation: The arrays we are merging are [1,2,3] and [2,5,6].\n",
    "The result of the merge is [1,2,2,3,5,6] with the underlined elements coming from nums1.\n",
    "\"\"\"\n",
    "\n",
    "#NOTE:  Do not evaluate output in different param, modify nums1 in-place instead.\n",
    "\n",
    "#Input params \n",
    "nums1,nums2,m,n = [1,2,3,0,0,0],[2,5,6],3,3\n",
    "print(f\"Two Integer array:{nums1}, {nums2} and two integers m,n:{m},{n}\")\n",
    "# Appending values nums2 to nums1\n",
    "for i in range(len(nums2)):\n",
    "    nums1[m+i]=nums2[i]\n",
    "# Sorting nums1\n",
    "for i in range(len(nums1)-1):\n",
    "    j=i+1\n",
    "    while j<len(nums1):\n",
    "        if nums1[i]>nums1[j]:\n",
    "            temp = nums1[i]\n",
    "            nums1[i]=nums1[j]\n",
    "            nums1[j]=temp\n",
    "        j+=1\n",
    "\n",
    "print(f\"Output nums1:{nums1}\")"
   ]
  },
  {
   "cell_type": "markdown",
   "id": "e0a6f0d1",
   "metadata": {},
   "source": [
    "### Question 6 "
   ]
  },
  {
   "cell_type": "code",
   "execution_count": null,
   "id": "6c61f320",
   "metadata": {},
   "outputs": [],
   "source": [
    "\"\"\"\n",
    "Q6. Given an integer array nums, return true if any value appears at least twice in the array, and return false \n",
    "if every element is distinct.\n",
    "Example 1:\n",
    "Input: nums = [1,2,3,1]\n",
    "Output: true\n",
    "\"\"\"\n",
    "#Input param\n",
    "nums = [1,2,3,1] #True\n",
    "print(f\"Integer array nums:{nums}\")\n",
    "# Set from list\n",
    "mySet = set(nums)\n",
    "print(f\"Any value appears at least twice in the array?:{len(nums)!=len(mySet)}\")"
   ]
  },
  {
   "cell_type": "markdown",
   "id": "0e1a1c36",
   "metadata": {},
   "source": [
    "### Question 7 "
   ]
  },
  {
   "cell_type": "code",
   "execution_count": null,
   "id": "af69600e",
   "metadata": {},
   "outputs": [],
   "source": [
    "\"\"\"\n",
    "Q7. Given an integer array nums, move all 0's to the end of it while maintaining the relative order of the nonzero elements.\n",
    "Note that you must do this in-place without making a copy of the array.\n",
    "Example 1:\n",
    "Input: nums = [0,1,0,3,12]\n",
    "Output: [1,3,12,0,0]\n",
    "\"\"\"\n",
    "nums = [0,1,0,3,12] #Output: [1,3,12,0,0]\n",
    "print(f\"Integer array nums :{nums}\")\n",
    "i = len(nums)-1\n",
    "while i>=0:\n",
    "    if nums[i] == 0:\n",
    "        nums.pop(i)\n",
    "        nums.append(0)\n",
    "    i-=1\n",
    "print(f\"Integer array nums :{nums}\")"
   ]
  },
  {
   "cell_type": "markdown",
   "id": "9a0521ec",
   "metadata": {},
   "source": [
    "### Question 8 "
   ]
  },
  {
   "cell_type": "code",
   "execution_count": null,
   "id": "c853599a",
   "metadata": {},
   "outputs": [],
   "source": [
    "\"\"\"\n",
    "Q8. \n",
    "You have a set of integers s, which originally contains all the numbers from 1 to n. Unfortunately, due to some error, \n",
    "one of the numbers in s got duplicated to another number in the set, which results in repetition of one number and loss \n",
    "of another number.\n",
    "You are given an integer array nums representing the data status of this set after the error.\n",
    "Find the number that occurs twice and the number that is missing and return them in the form of an array.\n",
    "Example 1:\n",
    "Input: nums = [1,2,2,4]\n",
    "Output: [2,3]\n",
    "\"\"\"\n",
    "# Input param\n",
    "nums = [1,2,2,4] #Output: [2,3]\n",
    "print(f\"Set of Integer:{nums}\")\n",
    "#\n",
    "outList,i = [0]*2,0\n",
    "while i<len(nums):\n",
    "    if nums.count(nums[i])>1:\n",
    "        outList[0] = nums[i]\n",
    "    if outList[0]>0:\n",
    "        for i in range(len(nums)):\n",
    "            if (i+1) not in nums:\n",
    "                outList[1] = i+1\n",
    "        break\n",
    "    i+=1\n",
    "print(f\"Duplicate, Missing element:{outList}\")"
   ]
  }
 ],
 "metadata": {
  "kernelspec": {
   "display_name": "Python 3 (ipykernel)",
   "language": "python",
   "name": "python3"
  },
  "language_info": {
   "codemirror_mode": {
    "name": "ipython",
    "version": 3
   },
   "file_extension": ".py",
   "mimetype": "text/x-python",
   "name": "python",
   "nbconvert_exporter": "python",
   "pygments_lexer": "ipython3",
   "version": "3.9.12"
  }
 },
 "nbformat": 4,
 "nbformat_minor": 5
}
