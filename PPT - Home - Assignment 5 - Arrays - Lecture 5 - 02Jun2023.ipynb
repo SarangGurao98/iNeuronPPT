{
 "cells": [
  {
   "cell_type": "markdown",
   "id": "24307867",
   "metadata": {},
   "source": [
    "# Assignment 5\n",
    "\n",
    "## FSDS 2.0 - PPT\n",
    "\n",
    "### Sarang A Gurao - gurao.sarang@gmail.com"
   ]
  },
  {
   "cell_type": "markdown",
   "id": "dcdcc421",
   "metadata": {},
   "source": [
    "### Question 1 "
   ]
  },
  {
   "cell_type": "code",
   "execution_count": 12,
   "id": "e3aff6bf",
   "metadata": {},
   "outputs": [
    {
     "name": "stdout",
     "output_type": "stream",
     "text": [
      "1D Array : [1, 2, 3, 4]\n",
      "Dimension of 2d Array m*n: 2*2\n",
      "2D Array : [[1, 2], [3, 4]]\n"
     ]
    }
   ],
   "source": [
    "\"\"\"\n",
    "Question 1.\n",
    "\n",
    "Convert 1D Array Into 2D Array\n",
    "You are given a 0-indexed 1-dimensional (1D) integer array original, and two integers, m and n. \n",
    "You are tasked with creating a 2-dimensional (2D) array with m rows and n columns using all the elements from original.\n",
    "\n",
    "The elements from indices 0 to n - 1 (inclusive) of original should form the first row of the constructed 2D array, \n",
    "the elements from indices n to 2 * n - 1 (inclusive) should form the second row of the constructed 2D array, and so on.\n",
    "\n",
    "Return an m x n 2D array constructed according to the above procedure, or an empty 2D array if it is impossible.\n",
    "\n",
    "Example 1:\n",
    "\n",
    "Refer image: Assignment 5_Q1_Screenshot_2023-05-29_004311.png\n",
    "\n",
    "Input: original = [1,2,3,4], m = 2, n = 2\n",
    "Output: [[1,2],[3,4]]\n",
    "\n",
    "Explanation: The constructed 2D array should contain 2 rows and 2 columns.\n",
    "The first group of n=2 elements in original, [1,2], becomes the first row in the constructed 2D array.\n",
    "The second group of n=2 elements in original, [3,4], becomes the second row in the constructed 2D array.\n",
    "\n",
    "\"\"\"\n",
    "arr_original = [1,2,3,4] \n",
    "m = 2 # No of rows of output 2D array\n",
    "n = 2 # No of columns of output 2D array\n",
    "\n",
    "print(\"1D Array :\",arr_original)\n",
    "print(f\"Dimension of 2d Array m*n: {m}*{n}\")\n",
    "\n",
    "#Output: [[1,2],[3,4]]\n",
    "arr_Output = [[]*n]*m                 # initial empty array\n",
    "len_arr_original = len(arr_original)  # length of 1D array \n",
    "Possible_2D = False                    # Flag for 1D-2D conversion\n",
    "\n",
    "# Check if 1D to 2D is possible?\n",
    "if m*n != len_arr_original:            \n",
    "    print(\"2D Array not possible !!!\")\n",
    "else:\n",
    "    Possible_2D=True\n",
    "    arr_Output = [[0 for j in range(n)] for i in range(m)] \n",
    "\n",
    "if Possible_2D: # If possible then only process \n",
    "    k = 0 # for iterate through 1D array\n",
    "    for i in range(len(arr_Output)): \n",
    "        for j in range(len(arr_Output[i])):\n",
    "            arr_Output[i][j] = arr_original[k]\n",
    "            k+=1\n",
    "print(\"2D Array :\",arr_Output)"
   ]
  },
  {
   "cell_type": "markdown",
   "id": "249c91e2",
   "metadata": {},
   "source": [
    "### Question 2 "
   ]
  },
  {
   "cell_type": "code",
   "execution_count": null,
   "id": "42d74428",
   "metadata": {},
   "outputs": [],
   "source": [
    "\"\"\"\n",
    "Question 2.\n",
    "Repeat Question \n",
    "\n",
    "\"\"\"\n",
    "# Please refer Assignment # 4 – Question 5 \n"
   ]
  },
  {
   "cell_type": "markdown",
   "id": "525c8f60",
   "metadata": {},
   "source": [
    "### Question 3 "
   ]
  },
  {
   "cell_type": "code",
   "execution_count": null,
   "id": "7f40d708",
   "metadata": {},
   "outputs": [],
   "source": [
    "\"\"\"\n",
    "Question 3.\n",
    "Repeat Question \n",
    "\n",
    "\"\"\"\n",
    "# Please refer Assignment # 4 – Question 6 \n"
   ]
  },
  {
   "cell_type": "markdown",
   "id": "20a7350a",
   "metadata": {},
   "source": [
    "### Question 4"
   ]
  },
  {
   "cell_type": "code",
   "execution_count": null,
   "id": "9fc6d2c9",
   "metadata": {},
   "outputs": [],
   "source": [
    "\"\"\"\n",
    "Question 4.\n",
    "Repeat Question \n",
    "\n",
    "\"\"\"\n",
    "# Please refer Assignment # 4 – Question 2 \n"
   ]
  },
  {
   "cell_type": "markdown",
   "id": "8c4b6b42",
   "metadata": {},
   "source": [
    "### Question 5 "
   ]
  },
  {
   "cell_type": "code",
   "execution_count": 13,
   "id": "a94b9467",
   "metadata": {},
   "outputs": [
    {
     "name": "stdout",
     "output_type": "stream",
     "text": [
      " abs(input_arr1[2]-input_arr2[0]) = 2, 2<=2 \n",
      " abs(input_arr1[2]-input_arr2[1]) = 1, 1<=2 \n",
      " abs(input_arr1[2]-input_arr2[3]) = 0, 0<=2 \n",
      "OutputCount 2\n"
     ]
    }
   ],
   "source": [
    "\"\"\"\n",
    "Question 5.\n",
    "\n",
    "Given two integer arrays arr1 and arr2, and the integer d, return the distance value between the two arrays.\n",
    "\n",
    "The distance value is defined as the number of elements arr1[i] \n",
    "such that there is not any element arr2[j] where |arr1[i]-arr2[j]| <= d.\n",
    "\n",
    "Example 1:\n",
    "Input: arr1 = [4,5,8], arr2 = [10,9,1,8], d = 2\n",
    "Output: 2\n",
    "\n",
    "Explanation:\n",
    "For arr1[0]=4 we have:\n",
    "|4-10|=6 > d=2\n",
    "|4-9|=5 > d=2\n",
    "|4-1|=3 > d=2\n",
    "|4-8|=4 > d=2\n",
    "For arr1[1]=5 we have:\n",
    "|5-10|=5 > d=2\n",
    "|5-9|=4 > d=2\n",
    "|5-1|=4 > d=2\n",
    "|5-8|=3 > d=2\n",
    "For arr1[2]=8 we have:\n",
    "|8-10|=2 <= d=2\n",
    "|8-9|=1 <= d=2\n",
    "|8-1|=7 > d=2\n",
    "|8-8|=0 <= d=2\n",
    "\n",
    "\"\"\"\n",
    "# Input Example 1\n",
    "input_arr1 = [4,5,8]\n",
    "input_arr2 = [10,9,1,8]\n",
    "d = 2 \n",
    "#Expected Output = 2\n",
    "\n",
    "# Input Example 2\n",
    "#input_arr1 = [1,4,2,3]\n",
    "#input_arr2 = [-4,-3,6,10,20,30]\n",
    "#d = 3\n",
    "#Expected Output = 2\n",
    "\n",
    "# Input Example 3\n",
    "#input_arr1 = [2,1,100,3]\n",
    "#input_arr2 = [-5,-2,10,-3,7]\n",
    "#d = 6\n",
    "#Expected Output: 1\n",
    "\n",
    "OutputCount = 0\n",
    "\n",
    "for i in range(len(input_arr1)):\n",
    "    numberFound = False\n",
    "    for j in range(len(input_arr2)):\n",
    "        temp = abs(input_arr1[i]-input_arr2[j])\n",
    "        if temp <= d:\n",
    "            print(f\" abs(input_arr1[{i}]-input_arr2[{j}]) = {abs(input_arr1[i] -input_arr2[j])}, {temp}<={d} \")\n",
    "            numberFound = True\n",
    "    if not (numberFound):\n",
    "        OutputCount+=1\n",
    "print(\"OutputCount\", OutputCount)"
   ]
  },
  {
   "cell_type": "markdown",
   "id": "ed569980",
   "metadata": {},
   "source": [
    "### Question6 "
   ]
  },
  {
   "cell_type": "code",
   "execution_count": 14,
   "id": "e16b48fc",
   "metadata": {},
   "outputs": [
    {
     "name": "stdout",
     "output_type": "stream",
     "text": [
      "input_nums [4, 3, 2, 7, 8, 2, 3, 1]\n",
      "output_nums [2, 3]\n"
     ]
    }
   ],
   "source": [
    "\"\"\"\n",
    "Question 6.\n",
    "\n",
    "Given an integer array nums of length n where all the integers of nums are in the range [1, n] \n",
    "and each integer appears once or twice, return an array of all the integers that appears twice.\n",
    "You must write an algorithm that runs in O(n) time and uses only constant extra space.\n",
    "\n",
    "Example 1:\n",
    "\n",
    "Input: nums = [4,3,2,7,8,2,3,1]\n",
    "Output: [2,3]\n",
    "\n",
    "\"\"\"\n",
    "input_nums = [4,3,2,7,8,2,3,1]\n",
    "#Output: [2,3]\n",
    "output_nums = []\n",
    "\n",
    "print(\"input_nums\",input_nums)\n",
    "\n",
    "input_nums.sort()\n",
    "i = 0\n",
    "j=0\n",
    "while i<len(input_nums):\n",
    "    if i!=(len(input_nums)-1) and (input_nums[i] == input_nums[i+1]):\n",
    "        output_nums.insert(j,input_nums[i])\n",
    "        j+=1\n",
    "        i+=1\n",
    "    i+=1\n",
    "print(\"output_nums\",output_nums)\n"
   ]
  },
  {
   "cell_type": "markdown",
   "id": "d57d93cc",
   "metadata": {},
   "source": [
    "### Question 7 "
   ]
  },
  {
   "cell_type": "code",
   "execution_count": 17,
   "id": "50cfcb80",
   "metadata": {},
   "outputs": [
    {
     "name": "stdout",
     "output_type": "stream",
     "text": [
      "input_nums [3, 4, 5, 1, 2]\n",
      "  Output:1\n"
     ]
    }
   ],
   "source": [
    "\"\"\"\n",
    "Question 7.\n",
    "\n",
    "Suppose an array of length n sorted in ascending order is rotated between 1 and n times. \n",
    "For example, the array nums = [0,1,2,4,5,6,7] might become:\n",
    "•\t[4,5,6,7,0,1,2] if it was rotated 4 times.\n",
    "•\t[0,1,2,4,5,6,7] if it was rotated 7 times.\n",
    "\n",
    "Notice that rotating an array [a[0], a[1], a[2], ..., a[n-1]] 1 time \n",
    "results in the array [a[n-1], a[0], a[1], a[2], ..., a[n-2]].\n",
    "\n",
    "Given the sorted rotated array nums of unique elements, return the minimum element of this array.\n",
    "\n",
    "You must write an algorithm that runs in O(log n) time.\n",
    "\n",
    "Example 1:\n",
    "Input: nums = [3,4,5,1,2]\n",
    "Output: 1\n",
    "Explanation:\n",
    "The original array was [1,2,3,4,5] rotated 3 times.\n",
    "\n",
    "\"\"\"\n",
    "input_nums = [3,4,5,1,2]\n",
    "\n",
    "#Output: 1\n",
    "\n",
    "print(\"input_nums\", input_nums)\n",
    "left = 0\n",
    "right =  len(input_nums)-1\n",
    "mid = (int)((left+right)/2)\n",
    "#print(f\" left:{left}, mid:{mid}, right:{right} \")\n",
    "\n",
    "minimum_num = 0\n",
    "while mid!=left or mid!=right:\n",
    "    mid = (int)((left+right)/2)\n",
    "    minimum_num+=1\n",
    "    if minimum_num ==10:\n",
    "        break\n",
    "    #print(f\" ++++++ left:{left}, mid:{mid}, right:{right} \")\n",
    "    if input_nums[left] < input_nums[mid]:\n",
    "        left = mid\n",
    "    elif input_nums[mid] < input_nums[right]:\n",
    "        right= mid\n",
    "    if input_nums[left] > input_nums[mid]:\n",
    "        left = mid\n",
    "\n",
    "        \n",
    "print(f\"  Output:{input_nums[mid]}\")"
   ]
  },
  {
   "cell_type": "markdown",
   "id": "12769cf0",
   "metadata": {},
   "source": [
    "### Question 8 "
   ]
  },
  {
   "cell_type": "code",
   "execution_count": 18,
   "id": "6b9266dd",
   "metadata": {},
   "outputs": [
    {
     "name": "stdout",
     "output_type": "stream",
     "text": [
      "Input array [1, 3, 4, 2, 6, 8]\n",
      "Original array [4, 3, 1]\n"
     ]
    }
   ],
   "source": [
    "\"\"\"\n",
    "Question 8.\n",
    "\n",
    "An integer array original is transformed into a doubled array changed by appending twice the value of every element\n",
    "in original, and then randomly shuffling the resulting array. \n",
    "\n",
    "Given an array changed, return original if changed is a doubled array. \n",
    "If changed is not a doubled array, return an empty array. The elements in original may be returned in any order.\n",
    "\n",
    "Example 1:\n",
    "Input: changed = [1,3,4,2,6,8]\n",
    "Output: [1,3,4]\n",
    "\n",
    "Explanation: One possible original array could be [1,3,4]:\n",
    "•\tTwice the value of 1 is 1 * 2 = 2.\n",
    "•\tTwice the value of 3 is 3 * 2 = 6.\n",
    "•\tTwice the value of 4 is 4 * 2 = 8.\n",
    "Other original arrays could be [4,3,1] or [3,1,4].\n",
    "\n",
    "\"\"\"\n",
    "\n",
    "input_array = [1,3,4,2,6,8] #Sample input 1 - Double Array\n",
    "#input_array = [1,3,4,6,8]  #Sample input - Not a double Array\n",
    "#Output: [1,3,4]\n",
    "print(\"Input array\", input_array)\n",
    "\n",
    "changed_array = input_array\n",
    "changed_array.sort()\n",
    "changed_array.reverse()\n",
    "\n",
    "original_arr=[]\n",
    "\n",
    "if len(changed_array)%2 != 0:\n",
    "    print(\"Not a double array\", original_arr)\n",
    "    exit(0)\n",
    "    \n",
    "k=0\n",
    "temp = 0\n",
    "DoubleFound = True\n",
    "while DoubleFound: \n",
    "    temp = changed_array[0]\n",
    "    tempDoubleFound = False\n",
    "    for tempDouble in changed_array:\n",
    "        if temp == tempDouble*2:\n",
    "            original_arr.insert(k,tempDouble)\n",
    "            changed_array.remove(tempDouble)\n",
    "            changed_array.remove(temp)\n",
    "            lengthOfArray = len(changed_array)\n",
    "            k+=1\n",
    "            tempDoubleFound = True\n",
    "    if not tempDoubleFound or lengthOfArray==0:\n",
    "        DoubleFound = False\n",
    "\n",
    "if len(changed_array)>0:\n",
    "    original_arr=[]\n",
    "    print(\"Not a double array\", original_arr)\n",
    "else:\n",
    "    print(\"Original array\", original_arr)"
   ]
  },
  {
   "cell_type": "code",
   "execution_count": null,
   "id": "b7004c64",
   "metadata": {},
   "outputs": [],
   "source": []
  }
 ],
 "metadata": {
  "kernelspec": {
   "display_name": "Python 3 (ipykernel)",
   "language": "python",
   "name": "python3"
  },
  "language_info": {
   "codemirror_mode": {
    "name": "ipython",
    "version": 3
   },
   "file_extension": ".py",
   "mimetype": "text/x-python",
   "name": "python",
   "nbconvert_exporter": "python",
   "pygments_lexer": "ipython3",
   "version": "3.9.12"
  }
 },
 "nbformat": 4,
 "nbformat_minor": 5
}
