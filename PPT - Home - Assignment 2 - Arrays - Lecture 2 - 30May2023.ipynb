{
 "cells": [
  {
   "cell_type": "markdown",
   "id": "a5baa063",
   "metadata": {},
   "source": [
    "# Assignment 2\n",
    "### FSDS 2.0 - PPT\n",
    "### Sarang A Gurao: gurao.sarang@gmail.com\n"
   ]
  },
  {
   "cell_type": "markdown",
   "id": "971a318e",
   "metadata": {},
   "source": [
    "### Question 1 "
   ]
  },
  {
   "cell_type": "code",
   "execution_count": null,
   "id": "10b59b60",
   "metadata": {},
   "outputs": [],
   "source": [
    "\"\"\"\n",
    "Question 1\n",
    "Given an integer array nums of 2n integers, group these integers into n pairs (a1, b1), (a2, b2),\n",
    "..., (an, bn) such that the sum of min(ai, bi) for all i is maximized. Return the maximized sum.\n",
    "Example 1:\n",
    "Input: nums = [1,4,3,2]\n",
    "Output: 4\n",
    "Explanation: All possible pairings (ignoring the ordering of elements) are:\n",
    "1. (1, 4), (2, 3) -> min(1, 4) + min(2, 3) = 1 + 2 = 3\n",
    "2. (1, 3), (2, 4) -> min(1, 3) + min(2, 4) = 1 + 2 = 3\n",
    "3. (1, 2), (3, 4) -> min(1, 2) + min(3, 4) = 1 + 3 = 4\n",
    "So the maximum possible sum is 4\n",
    "\n",
    "\"\"\"\n",
    "import itertools\n",
    "\n",
    "arr_nums = [1,4,3,2]\n",
    "k=2\n",
    "\n",
    "#print(\"Please select a valid 2n array with non duplicate elements\")\n",
    "#if(len(arr_nums)%2 == 0):\n",
    "#    break\n",
    "    \n",
    "arr_nums.sort()\n",
    "subsets_arr = list(itertools.combinations(arr_nums, k))  \n",
    "print(\"Sub Array\",subsets_arr )\n",
    "\n",
    "i=0;\n",
    "j=len(subsets_arr)\n",
    "mid = int((i+j)/2)\n",
    "#print(f\"i:{i}, j:{j}, mid:{mid}\")\n",
    "\n",
    "j=j-1\n",
    "arr_nums_comb=[]\n",
    "while i<mid:\n",
    "    #print(f\"i:{i}, j:{j}, mid:{mid}\")\n",
    "    arr_num_temp=[]\n",
    "    arr_num_temp.append(subsets_arr[i])\n",
    "    arr_num_temp.append(subsets_arr[j])\n",
    "    arr_nums_comb.append(arr_num_temp)\n",
    "    i=i+1\n",
    "    j=j-1\n",
    "\n",
    "print(\"Sub Array Combination\",arr_nums_comb )\n",
    "\n",
    "# Finding the minimal of element\n",
    "maxOutput = 0\n",
    "for i in arr_nums_comb:\n",
    "    temp1 = min(i[0])\n",
    "    temp2 = min(i[1])\n",
    "    currentOutput = temp1 + temp2\n",
    "    if maxOutput < currentOutput:\n",
    "         maxOutput = currentOutput\n",
    "\n",
    "\n",
    "print(f\"Output:{maxOutput}\")\n",
    "\n",
    "\n"
   ]
  },
  {
   "cell_type": "markdown",
   "id": "c08617b1",
   "metadata": {},
   "source": [
    "### Question 2 "
   ]
  },
  {
   "cell_type": "code",
   "execution_count": null,
   "id": "f3132f80",
   "metadata": {},
   "outputs": [],
   "source": [
    "\"\"\"\n",
    "Question 2\n",
    "Alice has n candies, where the ith candy is of type candyType[i]. \n",
    "Alice noticed that she started to gain weight, so she visited a doctor.\n",
    "The doctor advised Alice to only eat n / 2 of the candies she has (n is always even). \n",
    "Alice likes her candies very much, and she wants to eat the maximum number of different types of candies \n",
    "while still following the doctor's advice.\n",
    "Given the integer array candyType of length n, return the maximum number of different types of candies \n",
    "she can eat if she only eats n / 2 of them.\n",
    "Example 1:\n",
    "Input: candyType = [1,1,2,2,3,3]\n",
    "Output: 3\n",
    "Explanation: Alice can only eat 6 / 2 = 3 candies. Since there are only 3 types, she can eat one\n",
    "of each type.\n",
    "\n",
    "\"\"\"\n",
    "# Input, each candy type is defined as number 1,2,3. Repetition Count denotes quantity\n",
    "# It should be even as per problem statement.\n",
    "candyType = [1,1,2,2,3,3] \n",
    "\n",
    "# Output parameter to store no. of candy Alice can have.\n",
    "Output= 0\n",
    "\n",
    "# Dictionary define\n",
    "candyDict = dict()\n",
    "\n",
    "# Creating dictionary for [CandyType: Candy Count]\n",
    "for i in candyType:\n",
    "    canKey = i\n",
    "    tempCount = 1\n",
    "    if candyDict.get(canKey) is None:\n",
    "        candyDict[canKey]=tempCount\n",
    "    else:\n",
    "        tempCount = candyDict.get(canKey)\n",
    "        tempCount += 1\n",
    "        candyDict[canKey]=tempCount\n",
    "print(\"Each Candy Cound in [CandyType: CandyCount]:\",candyDict)\n",
    "\n",
    "print(\"She can have n/2 of each types of Candies\")\n",
    "\n",
    "# Taking half of each candy type to know how many candy alice can have.\n",
    "for candyCount in candyDict.values():\n",
    "    Output= Output + (int)(candyCount/2)\n",
    "\n",
    "print(\"Total number of Candies Alice can have:\", Output )\n"
   ]
  },
  {
   "cell_type": "markdown",
   "id": "538b4e02",
   "metadata": {},
   "source": [
    "### Question 3 "
   ]
  },
  {
   "cell_type": "code",
   "execution_count": null,
   "id": "64c50da4",
   "metadata": {},
   "outputs": [],
   "source": [
    "\"\"\"\n",
    "Question 3\n",
    "We define a harmonious array as an array where the difference between its maximum value\n",
    "and its minimum value is exactly 1.\n",
    "Given an integer array nums, return the length of its longest harmonious subsequence\n",
    "among all its possible subsequences.\n",
    "A subsequence of an array is a sequence that can be derived from the array by deleting some\n",
    "or no elements without changing the order of the remaining elements.\n",
    "Example 1:\n",
    "Input: nums = [1,3,2,2,5,2,3,7]\n",
    "Output: 5\n",
    "Explanation: The longest harmonious subsequence is [3,2,2,2,3]\n",
    "\"\"\"\n",
    "#Input Array\n",
    "arr_nums = [1,3,2,2,5,2,3,7]\n",
    "print(\"The input arrays is :\", arr_nums)\n",
    "Output = 0 #Explanation: The longest harmonious subsequence is [3,2,2,2,3]\n",
    "\n",
    "tempArr = [] # Array in which all subsequence would get stored as per criteria\n",
    "for i in range(len(arr_nums)):\n",
    "    tempArr1 = [] # Each subsequence array\n",
    "    first = arr_nums[i]\n",
    "    nextRange = range(i+1, len(arr_nums))\n",
    "    tempArr1.append(first)\n",
    "    for j in nextRange:\n",
    "        #Comparing next items where the difference between its maximum value and its minimum value is exactly 1.\n",
    "        if (int)(abs(arr_nums[j] - first )) <= 1: \n",
    "            tempArr1.append(arr_nums[j])\n",
    "    if(len(tempArr1)>1):\n",
    "        tempArr.append(tempArr1)\n",
    "\n",
    "#print(\"The subsequence arrays is\", tempArr)\n",
    "for i in tempArr: # Comparing and Selecting max length subsequence array\n",
    "    if Output < len(i):\n",
    "        Output = len(i)\n",
    "        tempArr1 = []\n",
    "        tempArr1=i\n",
    "\n",
    "print(\"The longest harmonious subsequence is\", tempArr1)\n",
    "print(\"subsequence count:\", Output)\n"
   ]
  },
  {
   "cell_type": "markdown",
   "id": "77ffb8c6",
   "metadata": {},
   "source": [
    "### Question 4 "
   ]
  },
  {
   "cell_type": "code",
   "execution_count": null,
   "id": "7baf9486",
   "metadata": {},
   "outputs": [],
   "source": [
    "\"\"\"\n",
    "Question 4\n",
    "You have a long flowerbed in which some of the plots are planted, and some are not.\n",
    "However, flowers cannot be planted in adjacent plots.\n",
    "Given an integer array flowerbed containing 0's and 1's, where 0 means empty and 1 means\n",
    "not empty, and an integer n, return true if n new flowers can be planted in the flowerbed\n",
    "without violating the no-adjacent-flowers rule and false otherwise.\n",
    "Example 1:\n",
    "Input: flowerbed = [1,0,0,0,1], n = 1\n",
    "Output: true\n",
    "\n",
    "\"\"\"\n",
    "flowerbed = [1,0,0,0,1] # Current Flowerbed planted system \n",
    "n = 1 # No.s for flowers to be added\n",
    "Output = False # True=if n number of flowers can be planted. Otherwise False.\n",
    "\n",
    "print(\"Input flowerbed:\", flowerbed)\n",
    "print(\"Number of flowerbed to be added : \", n)\n",
    "for i in range(n):\n",
    "    checkSpot=False\n",
    "    for j in range(len(flowerbed)):\n",
    "        if j==0 and flowerbed[j]==0 and n>0:\n",
    "            if flowerbed[j+1]==0:\n",
    "                flowerbed[j]=1\n",
    "                n=n-1\n",
    "        elif flowerbed[j]==0 and n>0:\n",
    "            if flowerbed[j-1]==0 and flowerbed[j+1]==0:\n",
    "                flowerbed[j]=1\n",
    "                n=n-1\n",
    "if n==0:\n",
    "    Output = True\n",
    "print(\"flowerbed setting:\", flowerbed)    \n",
    "print(\"Output flowerbed added:\", Output)\n"
   ]
  },
  {
   "cell_type": "markdown",
   "id": "00f51420",
   "metadata": {},
   "source": [
    "### Question 5 "
   ]
  },
  {
   "cell_type": "code",
   "execution_count": null,
   "id": "0ff3e4a9",
   "metadata": {},
   "outputs": [],
   "source": [
    "\"\"\"\n",
    "Question 5\n",
    "Given an integer array nums, find three numbers whose product is maximum and return the\n",
    "maximum product.\n",
    "Example 1:\n",
    "Input: nums = [1,2,3]\n",
    "Output: 6\n",
    "\n",
    "\"\"\"\n",
    "arr_nums = [1,2,3,5,4,2,7,3,4,12,1,3] # Input array\n",
    "Output= 0 # three numbers whose product is maximum\n",
    "print(\"Input array :\",arr_nums)\n",
    "\n",
    "if(len(arr_nums) >= 3): # Check array length must atleast be 3 to find multiple of max three numbers\n",
    "    arr_nums.sort() # Sorting array in Ascending order\n",
    "    Output = arr_nums[-1]*arr_nums[-2]*arr_nums[-3]  # index: -1 is last, -2 is 2nd last, -3 is 3rd last\n",
    "else:\n",
    "    print(\"Please enter a valid input\")\n",
    "\n",
    "print(\"Product for maximum three numbers :\",Output)\n"
   ]
  },
  {
   "cell_type": "markdown",
   "id": "e9c321aa",
   "metadata": {},
   "source": [
    "### Question 6 "
   ]
  },
  {
   "cell_type": "code",
   "execution_count": 10,
   "id": "39797c6d",
   "metadata": {},
   "outputs": [
    {
     "name": "stdout",
     "output_type": "stream",
     "text": [
      "arr_nums : [-1, 0, 3, 5, 9, 12]\n",
      "target index to find : 9\n",
      "Index Output : 4\n"
     ]
    }
   ],
   "source": [
    "\"\"\"\n",
    "Question 6\n",
    "Given an array of integers nums which is sorted in ascending order, and an integer target,\n",
    "write a function to search target in nums. If target exists, then return its index. Otherwise,\n",
    "return -1.\n",
    "You must write an algorithm with O(log n) runtime complexity.\n",
    "Input: nums = [-1,0,3,5,9,12], target = 9\n",
    "Output: 4\n",
    "Explanation: 9 exists in nums and its index is 4\n",
    "\n",
    "\"\"\"\n",
    "#Input array is in Ascending format\n",
    "arr_nums = [-1,0,3,5,9,12] \n",
    "target =9   # Element index to find from arr_num\n",
    "Output = -1 # 4 is answer for target=9 as its index=4 in array\n",
    "\n",
    "print(\"arr_nums :\", arr_nums)\n",
    "print(\"target index to find :\", target)\n",
    "\n",
    "# Splitting the array into half and searching based on whether target is greater or less than element at mid.\n",
    "first = 0\n",
    "last = len(arr_nums)\n",
    "mid = (int)((first+last)/2)\n",
    "\n",
    "while (first!=mid or mid!=last or Output!=-1):\n",
    "    if target == arr_nums[mid]:\n",
    "        Output = mid\n",
    "        break\n",
    "    elif target < arr_nums[mid]:\n",
    "        last = mid\n",
    "        mid = (int)((first+last)/2)\n",
    "    elif target > arr_nums[mid]:\n",
    "        first = mid\n",
    "        mid = (int)((first+last)/2)\n",
    "\n",
    "print(\"Index Output :\", Output)"
   ]
  },
  {
   "cell_type": "markdown",
   "id": "91f740b2",
   "metadata": {},
   "source": [
    "### Question 7 "
   ]
  },
  {
   "cell_type": "code",
   "execution_count": 19,
   "id": "068b25be",
   "metadata": {},
   "outputs": [
    {
     "name": "stdout",
     "output_type": "stream",
     "text": [
      "Input array:  [1, 2, 2, 3]\n",
      "Array is monotone increasing/decreasing : True\n"
     ]
    }
   ],
   "source": [
    "\"\"\"\n",
    "Question 7\n",
    "An array is monotonic if it is either monotone increasing or monotone decreasing.\n",
    "An array nums is monotone increasing if for all i <= j, nums[i] <= nums[j]. \n",
    "An array nums is monotone decreasing if for all i <= j, nums[i] >= nums[j].\n",
    "Given an integer array nums, return true if the given array is monotonic, or false otherwise.\n",
    "Example 1:\n",
    "Input: nums = [1,2,2,3]\n",
    "Output: true\n",
    "\n",
    "\"\"\"\n",
    "arr_nums = [1,2,2,3]\n",
    "Output = True # True if array is either monotone increasing/decreasing\n",
    "print(\"Input array: \",arr_nums)\n",
    "\n",
    "checkRange = range(1,len(arr_nums)-1) # Range from index=1 till one less as in loop we are comparing i with i+1\n",
    "if arr_nums[0]>=arr_nums[1]:          # check for monotone ascending\n",
    "    for i in checkRange:\n",
    "        if arr_nums[i]<arr_nums[i+1]:\n",
    "            Output = False            # if condition failed -> Output = False\n",
    "elif arr_nums[0]<=arr_nums[1]:        # check for monotone decending\n",
    "    for i in checkRange:\n",
    "        if arr_nums[i]>arr_nums[i+1]:\n",
    "            Output = False            # if condition failed -> Output = False\n",
    "\n",
    "print(\"Array is monotone increasing/decreasing :\",Output)\n"
   ]
  },
  {
   "cell_type": "markdown",
   "id": "a5543e7d",
   "metadata": {},
   "source": [
    "### Question 8 "
   ]
  },
  {
   "cell_type": "code",
   "execution_count": 26,
   "id": "060a2205",
   "metadata": {},
   "outputs": [
    {
     "name": "stdout",
     "output_type": "stream",
     "text": [
      "Input Array : [0, 1, 2, 3, 4]\n",
      "Input integer k: 2\n",
      "Changed Array : [-1, 2, 3, 2, 2]\n",
      "Output : 4\n"
     ]
    }
   ],
   "source": [
    "\"\"\"\n",
    "Question 8\n",
    "You are given an integer array nums and an integer k.\n",
    "In one operation, you can choose any index i where 0 <= i < nums.length and change nums[i]\n",
    "to nums[i] + x where x is an integer from the range [-k, k]. \n",
    "You can apply this operation at most once for each index i.\n",
    "The score of nums is the difference between the maximum and minimum elements in nums.\n",
    "Return the minimum score of nums after applying the mentioned operation at most once for\n",
    "each index in it.\n",
    "Example 1:\n",
    "Input: nums = [1], k = 0\n",
    "Output: 0\n",
    "Explanation: The score is max(nums) - min(nums) = 1 - 1 = 0\n",
    "\"\"\"\n",
    "import random\n",
    "\n",
    "arr_num = [0,1,2,3,4]\n",
    "k = 2\n",
    "# As k=2, s would be x = [-2,-1,0,1,2], we will use random.choice(range(-k, k)) \n",
    "\n",
    "print(\"Input Array :\",arr_num)\n",
    "print(\"Input integer k:\",k)\n",
    "\n",
    "# For block for changing array = nums[i] + x where x is an integer from the range [-k, k]. \n",
    "for i in range(len(arr_num)): \n",
    "    x = random.choice(range(-k, k))\n",
    "    arr_num[i]=arr_num[i]+x\n",
    "\n",
    "print(\"Changed Array :\",arr_num)\n",
    "arr_num.sort() # we will sort the array to find min and max. \n",
    "# Output = The score is max(nums) - min(nums) \n",
    "Output = arr_num[len(arr_num)-1] - arr_num[0]\n",
    "\n",
    "print(\"Output :\",Output)"
   ]
  }
 ],
 "metadata": {
  "kernelspec": {
   "display_name": "Python 3 (ipykernel)",
   "language": "python",
   "name": "python3"
  },
  "language_info": {
   "codemirror_mode": {
    "name": "ipython",
    "version": 3
   },
   "file_extension": ".py",
   "mimetype": "text/x-python",
   "name": "python",
   "nbconvert_exporter": "python",
   "pygments_lexer": "ipython3",
   "version": "3.9.12"
  }
 },
 "nbformat": 4,
 "nbformat_minor": 5
}
