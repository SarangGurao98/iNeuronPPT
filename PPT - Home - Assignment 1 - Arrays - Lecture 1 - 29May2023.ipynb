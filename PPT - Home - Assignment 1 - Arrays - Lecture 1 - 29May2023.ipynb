{
 "cells": [
  {
   "cell_type": "markdown",
   "id": "4c8f93a5",
   "metadata": {},
   "source": [
    "## Assignment 1\n",
    "### FSDS 2.0 -- PPT\n",
    "### Sarang A Gurao: gurao.sarang@gmail.com"
   ]
  },
  {
   "cell_type": "markdown",
   "id": "2c6de957",
   "metadata": {},
   "source": [
    "### Question 1 "
   ]
  },
  {
   "cell_type": "code",
   "execution_count": null,
   "id": "53c11f9c",
   "metadata": {},
   "outputs": [],
   "source": [
    "\"\"\"\n",
    "**Q1.** \n",
    "Given an array of size N. \n",
    "The task is to find the maximum and the minimum element of the array using the minimum number of comparisons.\n",
    "\n",
    "**Examples:**\n",
    "Input: arr[] = {3, 5, 4, 1, 9}\n",
    "Output: Minimum element is: 1\n",
    "Maximum element is: 9\n",
    "\n",
    "\"\"\"\n",
    "# Approach #1- Using inbuild python method\n",
    "# input array from where we have to select min and max. ideally, size of array should atleast be 2 \n",
    "# input should be numeric \n",
    "arr = [3,5,4,1,9] \n",
    "\n",
    "print(\"Input Array\", arr)\n",
    "# sorting the array using sort method\n",
    "arr.sort()\n",
    "\n",
    "# Min would first and hence index would be Zero=0. \n",
    "print(\"Minimum element is\", arr[0])\n",
    "# Max would last and hence index would be -1 as in python. \n",
    "print(\"Maximum element is\", arr[-1])\n",
    "\n",
    "# TC: O(n)\n",
    "# SC: O(n)"
   ]
  },
  {
   "cell_type": "code",
   "execution_count": null,
   "id": "8510a66b",
   "metadata": {},
   "outputs": [],
   "source": [
    "# Approach #2- Manually searching min,max in array\n",
    "# input array from where we have to select min and max. ideally, size of array should atleast be 2 \n",
    "# input should be numeric \n",
    "arr = [3,5,4,1,9] \n",
    "\n",
    "min = arr[0]\n",
    "max = arr[0]\n",
    "\n",
    "for i in range(1,len(arr)):\n",
    "    if arr[i]<min:\n",
    "        min = arr[i]\n",
    "    if arr[i]>max:\n",
    "        max=arr[i]\n",
    "\n",
    "print(\"Input Array\", arr)\n",
    "# Min would first and hence index would be Zero=0. \n",
    "print(\"Minimum element is\", min)\n",
    "# Max would last and hence index would be -1 as in python. \n",
    "print(\"Maximum element is\", max)\n",
    "\n",
    "# TC: O(n)\n",
    "# SC: O(n)"
   ]
  },
  {
   "cell_type": "markdown",
   "id": "fdb1d39d",
   "metadata": {},
   "source": [
    "### Question 2 "
   ]
  },
  {
   "cell_type": "code",
   "execution_count": null,
   "id": "8775379b",
   "metadata": {},
   "outputs": [],
   "source": [
    "\"\"\"\n",
    "**Q2.** \n",
    "You are given an array prices where prices[i] is the price of a given stock on the ith day.\n",
    "You want to maximize your profit by choosing a single day to buy one stock and choosing a different day in the future to sell that stock.\n",
    "Return the maximum profit you can achieve from this transaction. If you cannot achieve any profit, return 0.\n",
    "\n",
    "**Example :**\n",
    "Input: prices = [7,1,5,3,6,4]\n",
    "Output: 5\n",
    "\n",
    "Explanation: Buy on day 2 (price = 1) and sell on day 5 (price = 6), profit = 6-1 = 5.\n",
    "Note that buying on day 2 and selling on day 1 is not allowed because you must buy before you sell.\n",
    "\n",
    "\"\"\"\n",
    "\n",
    "arr_input  = [7,1,5,3,6,4] # Input Array - Should be numeric. Each element denoted stock price for that day.\n",
    "print(\"Input Stock Price\", arr_input)\n",
    "buy = 0 # Buy price for that day\n",
    "sell = 0 # Sell price after the days stock is bought\n",
    "Output = [0,0] #Output initialize  to 0,0. Denotes buy and sell from past best found scenarios\n",
    "\n",
    "for i in range(len(arr_input)): # Consider each element from start to buy\n",
    "    buy = arr_input[i];# Buy price for that day, considering stock is buyied on that day. In\n",
    "    sell=0\n",
    "    deal = range(i+1,len(arr_input)) # once stock is bought, then considering further days to sell it.\n",
    "    for j in deal: # Next days from i\n",
    "        if arr_input[j]>arr_input[i] and arr_input[j]>sell: # compares with buy price and previous best sold price\n",
    "            sell = arr_input[j] # If yes, Sell price to change with new best sold price available\n",
    "    # If current profit scenario is better than previous stored profit records, then update best scenario            \n",
    "    if (sell-buy) > (Output[1]-Output[0]):\n",
    "        Output[0]=buy        \n",
    "        Output[1]=sell\n",
    "# Output\n",
    "print(\"Sold Profit output: \", Output[1]-Output[0])"
   ]
  },
  {
   "cell_type": "markdown",
   "id": "b1985b20",
   "metadata": {},
   "source": [
    "### Question 3 "
   ]
  },
  {
   "cell_type": "code",
   "execution_count": 34,
   "id": "77dbd663",
   "metadata": {},
   "outputs": [
    {
     "name": "stdout",
     "output_type": "stream",
     "text": [
      "arr_input [2, 3, -2, 4]\n",
      "Largest Product is  [2, 3]\n"
     ]
    }
   ],
   "source": [
    "\"\"\"\n",
    "**Q3.** \n",
    "Given an integer array nums, find a subarray that has the largest product, and return the product.\n",
    "The test cases are generated so that the answer will fit in a 32-bit integer.\n",
    "\n",
    "**Example:**\n",
    "Input: nums = [2,3,-2,4]\n",
    "Output: 6\n",
    "Explanation: [2,3] has the largest product 6.\n",
    "\n",
    "\"\"\"\n",
    "# 32 Bit Integer max value = 2,147,483,647\n",
    "\n",
    "arr_input = [2,3,-2,4] # Input array for finding the subarray that has largest product.\n",
    "# As we have to find the product, we will not consider [] subarray and all single element subarrays. \n",
    "# We will consider subarrays having more than 2 elements.\n",
    "print(\"arr_input\", arr_input)\n",
    "\n",
    "sub_arr_input = [] # All subarrays would be stored in this array\n",
    "for i in range(len(arr_input)):\n",
    "    subsetRange = range(i,len(arr_input))\n",
    "    for j in subsetRange:\n",
    "        arr=[]\n",
    "        arrSetRange = range(i,j+1)\n",
    "        for k in arrSetRange:\n",
    "            arr.append(arr_input[k])\n",
    "        sub_arr_input.append(arr)\n",
    "#print(\"sub_arr_input\", sub_arr_input)  \n",
    "\n",
    "lar_prod = 1  \n",
    "lar_prod_arr = []\n",
    "for i in sub_arr_input:\n",
    "    temp_arr = i\n",
    "    current_prod = 1\n",
    "    for j in temp_arr:\n",
    "        current_prod = current_prod * j\n",
    "    if current_prod > lar_prod:\n",
    "        lar_prod_arr = temp_arr\n",
    "        lar_prod = current_prod\n",
    "\n",
    "print(\"Largest Product is \",lar_prod_arr)  \n"
   ]
  },
  {
   "cell_type": "markdown",
   "id": "4755e6a7",
   "metadata": {},
   "source": [
    "### Question 4"
   ]
  },
  {
   "cell_type": "code",
   "execution_count": 68,
   "id": "604c601f",
   "metadata": {},
   "outputs": [
    {
     "name": "stdout",
     "output_type": "stream",
     "text": [
      "Subsets [(-1, 0, 1), (-1, 0, 2), (-1, 0, -1), (-1, 0, -4), (-1, 1, 2), (-1, 1, -1), (-1, 1, -4), (-1, 2, -1), (-1, 2, -4), (-1, -1, -4), (0, 1, 2), (0, 1, -1), (0, 1, -4), (0, 2, -1), (0, 2, -4), (0, -1, -4), (1, 2, -1), (1, 2, -4), (1, -1, -4), (2, -1, -4)]\n",
      "Final Output [[-1, -1, 2], [-1, 0, 1]]\n"
     ]
    }
   ],
   "source": [
    "\"\"\"\n",
    "**Q4.** \n",
    "Given an integer array nums, return all the triplets [nums[i], nums[j], nums[k]] such that i != j, i != k, and j != k, \n",
    "and nums[i] + nums[j] + nums[k] == 0.\n",
    "Notice that the solution set must not contain duplicate triplets.\n",
    "\n",
    "**Example:**\n",
    "Input: nums = [-1,0,1,2,-1,-4]\n",
    "Output: [[-1,-1,2],[-1,0,1]]\n",
    "\n",
    "Explanation:\n",
    "nums[0] + nums[1] + nums[2] = (-1) + 0 + 1 = 0.\n",
    "nums[1] + nums[2] + nums[4] = 0 + 1 + (-1) = 0.\n",
    "nums[0] + nums[3] + nums[4] = (-1) + 2 + (-1) = 0.\n",
    "\n",
    "The distinct triplets are [-1,0,1] and [-1,-1,2].\n",
    "\n",
    "Notice that the order of the output and the order of the triplets does not matter.\n",
    "\n",
    "\"\"\"\n",
    "import itertools\n",
    "\n",
    "arr_input = [-1,0,1,2,-1,-4]\n",
    "k = 3  \n",
    "  \n",
    "# Find all subsets of size k  \n",
    "subsets_arr = list(itertools.combinations(arr_input, k))  \n",
    "# Print the subsets  \n",
    "print(\"Subsets\",subsets_arr)  \n",
    "\n",
    "# Sort to Remove Duplicates\n",
    "temp_array = []\n",
    "subsets_arr_sorted = []\n",
    "for i in subsets_arr:\n",
    "    temp_array = list(i)\n",
    "    temp_array.sort() #Sorting elements of Subarray \n",
    "    subsets_arr_sorted.append(temp_array)  \n",
    "\n",
    "#Sorting Subset Array\n",
    "subsets_arr_sorted.sort()\n",
    "#print(\" ---------------------- \")\n",
    "#print(\"Sorted Subsets Sorted\",subsets_arr_sorted)  \n",
    "\n",
    "# Removing Duplicates\n",
    "\n",
    "Output_array = []\n",
    "for i in subsets_arr_sorted:\n",
    "    total = i[0]+i[1]+i[2] # Checking if subset array elements total is Zero\n",
    "    #print(f\"Subsets:{i} Total:{total}\")  \n",
    "    duplicate = False # Flag for duplicate check. Initialize to False\n",
    "    if total == 0:   # if total == 0, then only check for duplicate and if not duplicate then append\n",
    "        for temp in Output_array: # Check all subarrays from Output array before adding next subarray\n",
    "            if(temp[0]== i[0] and temp[1]==i[1] and temp[2]==i[2]):\n",
    "                duplicate=True; # Flag for duplicate check. True if Duplicate array already present\n",
    "        if not duplicate:\n",
    "            Output_array.append(i)  # Output array append if not duplicate\n",
    "\n",
    "# Final Output \n",
    "print(\"Final Output\",Output_array)  \n"
   ]
  },
  {
   "cell_type": "markdown",
   "id": "70b5d759",
   "metadata": {},
   "source": [
    "### Question 5 "
   ]
  },
  {
   "cell_type": "code",
   "execution_count": 79,
   "id": "c29bf42b",
   "metadata": {},
   "outputs": [
    {
     "name": "stdout",
     "output_type": "stream",
     "text": [
      "Input Array :  [3, 2, 1, 5, 6, 4]\n",
      "largest number k :  2\n",
      "Output k :  5\n"
     ]
    }
   ],
   "source": [
    "\"\"\"\n",
    "**Q5.** \n",
    "Given an integer array nums and an integer k, return the kth largest element in the array. \n",
    "Note that it is the kth largest element in the sorted order, not the kth distinct element.\n",
    "**Example 1:**\n",
    "Input: nums = [3,2,1,5,6,4], k = 2\n",
    "Output: 5\n",
    "\n",
    "\"\"\"\n",
    "array_input = [3,2,1,5,6,4]\n",
    "k = 2 # If k=2, it will find the second larget number\n",
    "\n",
    "print(\"Input Array : \",array_input)\n",
    "print(\"largest number k : \",k)\n",
    "\n",
    "if (k !=0 and k<len(array_input)): # k!=0 and k should not be greater than length of array\n",
    "    array_input.sort() # Sorting array - Ascending way it will reorganize\n",
    "    array_input.reverse() # Reversing array - Descending way it will reorganize\n",
    "    print(\"Output k : \",array_input[k-1]) # Array Index start from 0, hence k-1 position\n",
    "else:\n",
    "    print(\"Please enter a valid input for k\")"
   ]
  },
  {
   "cell_type": "markdown",
   "id": "6dee6a4e",
   "metadata": {},
   "source": [
    "### Question 6 "
   ]
  },
  {
   "cell_type": "code",
   "execution_count": 84,
   "id": "6732a357",
   "metadata": {},
   "outputs": [
    {
     "name": "stdout",
     "output_type": "stream",
     "text": [
      "Input Array :  [3, 2, 1, 5, 6, 4]\n",
      "largest number k :  2\n",
      "Output k :  2\n"
     ]
    }
   ],
   "source": [
    "\"\"\"\n",
    "**Q6.** \n",
    "Given an integer array nums and an integer k, return the kth smallest element in the array. \n",
    "Note that it is the kth smallest element in the sorted order, not the kth distinct element.\n",
    "\n",
    "**Example 1:**\n",
    "Input: nums = [3,2,1,5,6,4], k = 2\n",
    "Output: 2\n",
    "\n",
    "\"\"\"\n",
    "array_input = [3,2,1,5,6,4]\n",
    "k = 2 # If k=2, it will find the second smallest number\n",
    "\n",
    "print(\"Input Array : \",array_input)\n",
    "print(\"largest number k : \",k)\n",
    "\n",
    "if (k !=0 and k<len(array_input)): # k!=0 and k should not be greater than length of array\n",
    "    array_input.sort() # Sorting array - Ascending way it will reorganize\n",
    "    print(\"Output k : \",array_input[k-1]) # Array Index start from 0, hence k-1 position\n",
    "else:\n",
    "    print(\"Please enter a valid input for k\")"
   ]
  }
 ],
 "metadata": {
  "kernelspec": {
   "display_name": "Python 3 (ipykernel)",
   "language": "python",
   "name": "python3"
  },
  "language_info": {
   "codemirror_mode": {
    "name": "ipython",
    "version": 3
   },
   "file_extension": ".py",
   "mimetype": "text/x-python",
   "name": "python",
   "nbconvert_exporter": "python",
   "pygments_lexer": "ipython3",
   "version": "3.9.12"
  }
 },
 "nbformat": 4,
 "nbformat_minor": 5
}
