{
 "cells": [
  {
   "cell_type": "markdown",
   "id": "1f6067a9",
   "metadata": {},
   "source": [
    "# Assignment 6\n",
    "\n",
    "## FSDS 2.0 - PPT\n",
    "\n",
    "### Sarang A Gurao - gurao.sarang@gmail.com"
   ]
  },
  {
   "cell_type": "markdown",
   "id": "d7cdc1ba",
   "metadata": {},
   "source": [
    "### Question 1  "
   ]
  },
  {
   "cell_type": "code",
   "execution_count": 5,
   "id": "d5853ccf",
   "metadata": {},
   "outputs": [
    {
     "name": "stdout",
     "output_type": "stream",
     "text": [
      "Input s :DID\n",
      "Array generated according to s :[0, 1, 2, 3]\n",
      "Output Output : [(1, 0, 3, 2), (2, 0, 3, 1), (2, 1, 3, 0), (3, 0, 2, 1), (3, 1, 2, 0)]\n"
     ]
    }
   ],
   "source": [
    "\"\"\"\n",
    "**Question 1**\n",
    "A permutation perm of n + 1 integers of all the integers in the range [0, n] can be represented \n",
    "as a string s of length n where:\n",
    "- s[i] == 'I' if perm[i] < perm[i + 1], and\n",
    "- s[i] == 'D' if perm[i] > perm[i + 1].\n",
    "Given a string s, reconstruct the permutation perm and return it. \n",
    "If there are multiple valid permutations perm, return **any of them**.\n",
    "**Example 1:**\n",
    "**Input:** s = \"IDID\"\n",
    "**Output:**\n",
    "[0,4,1,3,2]\n",
    "\"\"\"\n",
    "from itertools import permutations\n",
    "s = \"DID\"\n",
    "print(f\"Input s :{s}\")\n",
    "\n",
    "int_array = [0 for i in range(len(s)+1)] \n",
    "temp=0\n",
    "for i in range(len(s)+1):\n",
    "    int_array[i] = temp;\n",
    "    temp +=1\n",
    "print(f\"Array generated according to s :{int_array}\")\n",
    "\n",
    "perm = permutations(int_array)\n",
    "\n",
    "OutpuCnt = 0    \n",
    "Output=[]\n",
    "\n",
    "for permlist in list(perm):\n",
    "    tempList = permlist\n",
    "    tempListLength = len(permlist)\n",
    "    temp = 0\n",
    "    flag = True\n",
    "    while temp != tempListLength-1:\n",
    "        for i in range(len(s)):\n",
    "            if flag:\n",
    "                if s[i] =='D':\n",
    "                    if tempList[temp] > tempList[temp+1]:\n",
    "                        flag = True\n",
    "                    else:\n",
    "                        flag = False\n",
    "                if s[i] =='I':\n",
    "                    if tempList[temp] < tempList[temp+1]:\n",
    "                        flag = True\n",
    "                    else:\n",
    "                        flag = False\n",
    "            temp +=1\n",
    "    if flag:\n",
    "        Output.insert(OutpuCnt,tempList)\n",
    "        OutpuCnt+=1\n",
    "print(\"Output :\",Output )"
   ]
  },
  {
   "cell_type": "markdown",
   "id": "6afe3361",
   "metadata": {},
   "source": [
    "### Question 2"
   ]
  },
  {
   "cell_type": "code",
   "execution_count": 6,
   "id": "2b45e61c",
   "metadata": {},
   "outputs": [
    {
     "name": "stdout",
     "output_type": "stream",
     "text": [
      "Input input_matrix :[[1, 3, 5, 7], [10, 11, 16, 20], [23, 30, 34, 60]]\n",
      "Input target :3\n",
      "target_found :True\n"
     ]
    }
   ],
   "source": [
    "\"\"\"\n",
    "**Question 2**\n",
    "You are given an m x n integer matrix matrix with the following two properties:\n",
    "    - Each row is sorted in non-decreasing order.\n",
    "    - The first integer of each row is greater than the last integer of the previous row.\n",
    "\n",
    "Given an integer target, return true *if* target *is in* matrix *or* false *otherwise*.\n",
    "You must write a solution in O(log(m * n)) time complexity.\n",
    "\n",
    "**Example 1:**\n",
    "**Input:** matrix = [[1,3,5,7],[10,11,16,20],[23,30,34,60]], target = 3\n",
    "**Output:** true\n",
    "\"\"\"\n",
    "#Inputs matrix m*n = 4*3\n",
    "input_matrix = [[1,3,5,7],[10,11,16,20],[23,30,34,60]]\n",
    "target = 3 # Element to found in m*n matrix\n",
    "print(f\"Input input_matrix :{input_matrix}\")\n",
    "print(f\"Input target :{target}\")\n",
    "\n",
    "# Output param\n",
    "target_found = False   #Expected output - write a solution in O(log(m * n)) time complexity.\n",
    "\n",
    "first=0 # Initialize for Binary Search - First\n",
    "last=0  # Initialize for Binary Search - Last\n",
    "mid=0   # Initialize for Binary Search - Mid\n",
    "for tempList in input_matrix:\n",
    "    first = 0              # In begining - index to Zero  \n",
    "    last = len(tempList)-1 # In begining - Array size-1\n",
    "    if tempList[first]<=target and target<=tempList[last]:\n",
    "        while target_found==False and first<=last:\n",
    "            mid= (int)((first+last)/2) # Mid - Avg of first and last\n",
    "            if target==tempList[mid]:  # If target found/match\n",
    "                target_found = True\n",
    "            elif tempList[mid]<target: # if target is greater than mid. first shift to mid+1\n",
    "                first=mid+1\n",
    "            elif tempList[mid]>target: # if target is lessar than mid. last shift to mid-1\n",
    "                last=mid-1\n",
    "print(f\"target_found :{target_found}\") # Output"
   ]
  },
  {
   "cell_type": "markdown",
   "id": "804f7469",
   "metadata": {},
   "source": [
    "### Question 3 "
   ]
  },
  {
   "cell_type": "code",
   "execution_count": 7,
   "id": "d3871e76",
   "metadata": {},
   "outputs": [
    {
     "name": "stdout",
     "output_type": "stream",
     "text": [
      "imput_array :[0, 2, 3, 4, 5, 2, 1, 0]\n",
      "imput_array length :8\n",
      "isMountainArray :True\n"
     ]
    }
   ],
   "source": [
    "\"\"\"\n",
    "Question 3\n",
    "\n",
    "Given an array of integers arr, return *true if and only if it is a valid mountain array*.\n",
    "Recall that arr is a mountain array if and only if:\n",
    "\n",
    "- arr.length >= 3\n",
    "- There exists some i with 0 < i < arr.length - 1 such that:\n",
    "    - arr[0] < arr[1] < ... < arr[i - 1] < arr[i]\n",
    "    - arr[i] > arr[i + 1] > ... > arr[arr.length - 1]\n",
    "\n",
    "Example 1:\n",
    "    Input: arr = [2,1]\n",
    "    Output: false\n",
    "\"\"\"\n",
    "input_array = [0,2,3,4,5,2,1,0]   # Is mountain array\n",
    "#input_array = [0,2,3,3,5,2,1,0]  # Is NOT mountain array\n",
    "#input_array = [2,1]              # Is NOT mountain array - as arr.length >= 3\n",
    "#input_array = [0,3,1]\n",
    "print(f\"imput_array :{input_array}\")\n",
    "print(f\"imput_array length :{len(input_array)}\")\n",
    "isMountainArray = False\n",
    "\n",
    "upHillArray = []\n",
    "isUpHillArray = True\n",
    "downHillArray = []\n",
    "isDownHillArray = True\n",
    "topPoint = 0\n",
    "topPointIndex=0\n",
    "\n",
    "if len(input_array)>=3:\n",
    "    for i in range(len(input_array)):\n",
    "        if input_array[i] > topPoint:\n",
    "            topPoint = input_array[i]\n",
    "            topPointIndex = i\n",
    "    upHillArray = input_array[0 : topPointIndex+1]\n",
    "    downHillArray = input_array[topPointIndex : ]\n",
    "\n",
    "    temp = 0\n",
    "    i=0\n",
    "    while isUpHillArray and i<=(len(upHillArray)-1):\n",
    "        if i == 0:\n",
    "            temp = upHillArray[i]\n",
    "        elif temp >= upHillArray[i]:\n",
    "            isUpHillArray = False\n",
    "        else:\n",
    "            temp = upHillArray[i]\n",
    "        i+=1\n",
    "\n",
    "    i=0\n",
    "    while isDownHillArray and i<=(len(downHillArray)-1):\n",
    "        if i == 0:\n",
    "            temp = downHillArray[i]\n",
    "        elif temp <= downHillArray[i]:\n",
    "            isDownHillArray = False\n",
    "        else:\n",
    "            temp = downHillArray[i]\n",
    "        i+=1\n",
    "    \n",
    "if isUpHillArray and isDownHillArray:\n",
    "    isMountainArray = True\n",
    "\n",
    "print(f\"isMountainArray :{isMountainArray}\")    "
   ]
  },
  {
   "cell_type": "markdown",
   "id": "11184476",
   "metadata": {},
   "source": [
    "### Question 4 "
   ]
  },
  {
   "cell_type": "code",
   "execution_count": 10,
   "id": "08825828",
   "metadata": {},
   "outputs": [
    {
     "name": "stdout",
     "output_type": "stream",
     "text": [
      "binary array nums :[0, 0, 1, 1, 0, 1]\n",
      "maximum length of a contiguous subarray with an equal number of* 0 *and* 1 :6\n"
     ]
    }
   ],
   "source": [
    "\"\"\"\n",
    "Question 4\n",
    "\n",
    "Given a binary array nums, return *the maximum length of a contiguous subarray with an equal number of* 0 *and* 1.\n",
    "\n",
    "Example 1:\n",
    "Input: nums = [0,1]\n",
    "Output: 2\n",
    "Explanation:\n",
    "[0, 1] is the longest contiguous subarray with an equal number of 0 and 1.\n",
    "\n",
    "\"\"\"\n",
    "arr_binary_nums = [0,0,1,1,0,1]\n",
    "#arr_binary_nums = [0,1]\n",
    "print(f\"binary array nums :{arr_binary_nums}\")\n",
    "#maxOutputSubArray = 6\n",
    "maxOutputSubArray = 0\n",
    "\n",
    "cnt0=0\n",
    "cnt1=0\n",
    "for i in range(len(arr_binary_nums)):\n",
    "    if arr_binary_nums[i]==0:\n",
    "        cnt0+=1\n",
    "    elif arr_binary_nums[i]==1:\n",
    "        cnt1+=1\n",
    "\n",
    "if cnt0<=cnt1:\n",
    "    maxOutputSubArray = cnt0*2\n",
    "else:\n",
    "    maxOutputSubArray = cnt1*2\n",
    "    \n",
    "print(f\"maximum length of a contiguous subarray with an equal number of* 0 *and* 1 :{maxOutputSubArray}\")"
   ]
  },
  {
   "cell_type": "markdown",
   "id": "011bba5a",
   "metadata": {},
   "source": [
    "### Question 5 "
   ]
  },
  {
   "cell_type": "code",
   "execution_count": 11,
   "id": "c7a9d3be",
   "metadata": {},
   "outputs": [
    {
     "name": "stdout",
     "output_type": "stream",
     "text": [
      "First Array  arr_nums1:[5, 3, 4, 2]\n",
      "Second Array arr_nums2:[4, 2, 2, 5]\n",
      "Minimum product_sun:40\n"
     ]
    }
   ],
   "source": [
    "\"\"\"\n",
    "Question 5.\n",
    "\n",
    "The product sum of two equal-length arrays a and b \n",
    "is equal to the sum of a[i] * b[i] for all 0 <= i < a.length (**0-indexed**).\n",
    "\n",
    "- For example, if a = [1,2,3,4] and b = [5,2,3,1], the **product sum** would be 1*5 + 2*2 + 3*3 + 4*1 = 22.\n",
    "\n",
    "Given two arrays nums1 and nums2 of length n, return *the **minimum product sum** \n",
    "if you are allowed to **rearrange** the **order** of the elements in* nums1.\n",
    "\n",
    "Example 1:\n",
    "\n",
    "Input: nums1 = [5,3,4,2], nums2 = [4,2,2,5]\n",
    "Output: 40\n",
    "\n",
    "Explanation:\n",
    "We can rearrange nums1 to become [3,5,4,2]. The product sum of [3,5,4,2] and [4,2,2,5] is 3*4 + 5*2 + 4*2 + 2*5 = 40.\n",
    "\n",
    "\"\"\"\n",
    "from itertools import permutations\n",
    "arr_nums1 = [5,3,4,2] # Array imput a[i]\n",
    "arr_nums2 = [4,2,2,5] # Array imput b[i]\n",
    "print(f\"First Array  arr_nums1:{arr_nums1}\")\n",
    "print(f\"Second Array arr_nums2:{arr_nums2}\")\n",
    "#product_sun = 40\n",
    "product_sun = 0 # minimum product sum\n",
    "\n",
    "perm = permutations(arr_nums1) # Permutation to find all shuffle possibilities \n",
    "# Print the obtained permutations\n",
    "for perm_arr in list(perm): # Iterating through in permutation list from arr_nums1\n",
    "    tempProduct = 0\n",
    "    for i in range(len(perm_arr)): # Iterating through each element \n",
    "        tempProduct = tempProduct+ (perm_arr[i]*arr_nums2[i]) # from list to find product sum a[i]*b[i]\n",
    "    #print(f\"Array perm_arr{perm_arr}, product_sun:{tempProduct}\")\n",
    "    if product_sun==0 or tempProduct<product_sun: # Check if minimum from all previous calculations\n",
    "        product_sun=tempProduct \n",
    "        \n",
    "print(f\"Minimum product_sun:{product_sun}\")"
   ]
  },
  {
   "cell_type": "markdown",
   "id": "8d8ae09d",
   "metadata": {},
   "source": [
    "### Question 6 "
   ]
  },
  {
   "cell_type": "code",
   "execution_count": 12,
   "id": "bbbe18e9",
   "metadata": {},
   "outputs": [
    {
     "data": {
      "text/plain": [
       "'\\nQuestion 6\\nRepeat Question\\n'"
      ]
     },
     "execution_count": 12,
     "metadata": {},
     "output_type": "execute_result"
    }
   ],
   "source": [
    "\"\"\"\n",
    "Question 6\n",
    "Repeat Question\n",
    "\"\"\"\n",
    "\n",
    "# Please refer Assignment # 5 – Question 8 "
   ]
  },
  {
   "cell_type": "markdown",
   "id": "d6af3068",
   "metadata": {},
   "source": [
    "### Question 7 "
   ]
  },
  {
   "cell_type": "code",
   "execution_count": 13,
   "id": "cf531639",
   "metadata": {},
   "outputs": [
    {
     "name": "stdout",
     "output_type": "stream",
     "text": [
      "arr_square_matrix :[[0, 0, 0], [0, 0, 0], [0, 0, 0]]\n",
      "arr_square_matrix :[[1, 2, 3], [8, 9, 4], [7, 6, 5]]\n"
     ]
    }
   ],
   "source": [
    "\"\"\"\n",
    "Question 7.\n",
    "\n",
    "Given a positive integer n, generate an n x n matrix filled with elements from 1 to n2 in spiral order.\n",
    "\n",
    "Example 1:\n",
    "Input: n = 3\n",
    "Output: [[1,2,3],[8,9,4],[7,6,5]]\n",
    "\n",
    "\"\"\"\n",
    "n=3 #Integer n, generate n*n matrix\n",
    "arr_square_matrix = [[0 for j in range(n)] for i in range(n)] #Initialize n8n array to zero elements\n",
    "print(f\"arr_square_matrix :{arr_square_matrix}\")\n",
    "\n",
    "count = 1\n",
    "i=0\n",
    "j=0\n",
    "iteration=0\n",
    "while count<=(n*n):\n",
    "    if (i==0+iteration and j<n-iteration) and count<=(n*n): \n",
    "        #rint(f\"1. ij:{i}{j},count:{count}\")\n",
    "        arr_square_matrix[i][j]=count\n",
    "        j+=1\n",
    "        if(j==n-iteration):\n",
    "            j-=1\n",
    "        count+=1\n",
    "    if (j==(n-1)-iteration and i<n-iteration) and count<=(n*n): \n",
    "        #rint(f\"2. ij:{i}{j},count:{count}\")\n",
    "        arr_square_matrix[i][j]=count\n",
    "        i+=1\n",
    "        if(i==n-iteration):\n",
    "            i-=1\n",
    "        count+=1\n",
    "    if (i==(n-1)-iteration and j>-1) and count<=(n*n): \n",
    "        #rint(f\"3. ij:{i}{j},count:{count}\")\n",
    "        arr_square_matrix[i][j]=count        \n",
    "        j-=1\n",
    "        if(j<0):\n",
    "            J+=1\n",
    "        count+=1\n",
    "    if (j==0+iteration and i>0) and count<=(n*n): \n",
    "        #rint(f\"4. ij:{i}{j},count:{count}\")\n",
    "        arr_square_matrix[i][j]=count        \n",
    "        i-=1\n",
    "        if i==j:\n",
    "            i+=1\n",
    "            j+=1\n",
    "            iteration+=1\n",
    "        count+=1\n",
    "        \n",
    "print(f\"arr_square_matrix :{arr_square_matrix}\")"
   ]
  },
  {
   "cell_type": "markdown",
   "id": "c4f82555",
   "metadata": {},
   "source": [
    "### Question 8 "
   ]
  },
  {
   "cell_type": "code",
   "execution_count": 15,
   "id": "f516219a",
   "metadata": {},
   "outputs": [
    {
     "name": "stdout",
     "output_type": "stream",
     "text": [
      " mat1:[[1, 0, 0], [-1, 0, 3]] row*col: 2*3\n",
      " mat2:[[7, 0, 0], [0, 0, 0], [0, 0, 1]] row*col: 3*3\n",
      " mat_Output:[[7, 0, 0], [-7, 0, 3]]\n"
     ]
    }
   ],
   "source": [
    "\"\"\"\n",
    "Question 8\n",
    "\n",
    "Given two [sparse matrices](https://en.wikipedia.org/wiki/Sparse_matrix) \n",
    "mat1 of size m x k and mat2 of size k x n, \n",
    "return the result of mat1 x mat2. You may assume that multiplication is always possible.\n",
    "\n",
    "Example 1:\n",
    "Input: \n",
    "mat1 = [[1,0,0],[-1,0,3]] \n",
    "mat2 = [[7,0,0],[0,0,0],[0,0,1]]\n",
    "\n",
    "Output: [[7,0,0],[-7,0,3]]\n",
    "\n",
    "\"\"\"\n",
    "mat1 = [[1,0,0],[-1,0,3]] # Matrix 1 of size m*k\n",
    "mat2 = [[7,0,0],[0,0,0],[0,0,1]] # Matrix 2 of size k*n\n",
    "\n",
    "mat1rows = len(mat1)\n",
    "mat1cols = len(mat1[0])\n",
    "\n",
    "mat2rows = len(mat2)\n",
    "mat2cols = len(mat2[0])\n",
    "\n",
    "# Product matrix of size m*n\n",
    "mat_Output = [[0 for j in range(mat2cols)] for i in range(mat1rows)] #Initialize to zeros\n",
    "\n",
    "print(f\" mat1:{mat1} row*col: {mat1rows}*{mat1cols}\")\n",
    "print(f\" mat2:{mat2} row*col: {mat2rows}*{mat2cols}\")\n",
    "#print(f\" mat_Output:{mat_Output}\")\n",
    "        \n",
    "for row in range(mat1rows):\n",
    "    k=0\n",
    "    #print(f\" mat1: {mat1[row]} \")\n",
    "    for col in range(mat2cols):\n",
    "        #print(f\" mat2:{mat2[col]} \")\n",
    "        mat_Output[row][col] = mat_Output[row][col]+(mat1[row][k]*mat2[col][k])\n",
    "        k+=1\n",
    "print(f\" mat_Output:{mat_Output}\")"
   ]
  }
 ],
 "metadata": {
  "kernelspec": {
   "display_name": "Python 3 (ipykernel)",
   "language": "python",
   "name": "python3"
  },
  "language_info": {
   "codemirror_mode": {
    "name": "ipython",
    "version": 3
   },
   "file_extension": ".py",
   "mimetype": "text/x-python",
   "name": "python",
   "nbconvert_exporter": "python",
   "pygments_lexer": "ipython3",
   "version": "3.9.12"
  }
 },
 "nbformat": 4,
 "nbformat_minor": 5
}
