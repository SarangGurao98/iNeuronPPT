{
 "cells": [
  {
   "cell_type": "markdown",
   "id": "249861f7",
   "metadata": {},
   "source": [
    "# Assignment 7\n",
    "\n",
    "## FSDS 2.0 - PPT\n",
    "\n",
    "### Sarang A Gurao - gurao.sarang@gmail.com"
   ]
  },
  {
   "cell_type": "markdown",
   "id": "a35382bc",
   "metadata": {},
   "source": [
    "### Question 1"
   ]
  },
  {
   "cell_type": "code",
   "execution_count": 2,
   "id": "4c5afccc",
   "metadata": {},
   "outputs": [
    {
     "name": "stdout",
     "output_type": "stream",
     "text": [
      "String s:egg\n",
      "String t:add\n",
      "String s:egg & t:add are Isomorphic?: True\n"
     ]
    }
   ],
   "source": [
    "\"\"\"\n",
    "Question 1\n",
    "\n",
    "Given two strings s and t, *determine if they are isomorphic*.\n",
    "Two strings s and t are isomorphic if the characters in s can be replaced to get t.\n",
    "All occurrences of a character must be replaced with another character while preserving the order of characters. \n",
    "No two characters may map to the same character, but a character may map to itself.\n",
    "\n",
    "Example 1:\n",
    "Input: s = \"egg\", t = \"add\"\n",
    "Output: true\n",
    "\n",
    "Example 2:\n",
    "Input: s = \"foo\", t = \"bar\"\n",
    "Output: false\n",
    "\n",
    "Example 3:\n",
    "Input: s = \"paper\", t = \"title\"\n",
    "Output: true\n",
    "\n",
    "\"\"\"\n",
    "#Input\n",
    "str_s = \"egg\"\n",
    "str_t = \"add\"\n",
    "print(f\"String s:{str_s}\")\n",
    "print(f\"String t:{str_t}\")\n",
    "# Output\n",
    "isIsomorphic = True # True for str_s = \"egg\" str_d = \"add\"\n",
    "\n",
    "if len(str_s) != len(str_t): # If String are not equal in length then they cannot be isomorphic\n",
    "    isIsomorphic = False\n",
    "else:\n",
    "    i=0\n",
    "    # Dictionary to create key=s[i], value=t[i], if key present with different value then NOT Isomorphic\n",
    "    isoChkDict = dict() \n",
    "    while i<len(str_s):\n",
    "        if isoChkDict.get(str_s[i]) is None:\n",
    "            isoChkDict[str_s[i]] = str_t[i]\n",
    "        elif isoChkDict.get(str_s[i]) != str_t[i]:\n",
    "            isIsomorphic = False\n",
    "        i+=1\n",
    "print(f\"String s:{str_s} & t:{str_t} are Isomorphic?: {isIsomorphic}\")"
   ]
  },
  {
   "cell_type": "markdown",
   "id": "81f410a5",
   "metadata": {},
   "source": [
    "### Question 2"
   ]
  },
  {
   "cell_type": "code",
   "execution_count": 6,
   "id": "dc25b91c",
   "metadata": {},
   "outputs": [
    {
     "name": "stdout",
     "output_type": "stream",
     "text": [
      "String str_num:69\n",
      "String num:69 is strobogrammatic?: True\n"
     ]
    }
   ],
   "source": [
    "\"\"\"\n",
    "Question 2\n",
    "\n",
    "Given a string num which represents an integer, return true 'if' num is a <<strobogrammatic number>>.\n",
    "A <<strobogrammatic number>> is a number that looks the same when rotated 180 degrees (looked at upside down).\n",
    "\n",
    "Example 1:\n",
    "Input: \n",
    "num = \"69\"\n",
    "Output: true\n",
    "\"\"\"\n",
    "#Input\n",
    "str_num = \"69\" # \"88\", \"818\"\n",
    "print(f\"String str_num:{str_num}\")\n",
    "\n",
    "isSstrobogrammatic = True # Flag for output result\n",
    "# strobogrammatic number dictionary\n",
    "strobogrammatic_dict = {\"0\":\"0\", \"1\":\"1\", \"6\":\"9\", \"8\":\"8\", \"9\":\"6\"}\n",
    "i=0\n",
    "j=len(str_num)-1\n",
    "# Comparing all string elements of index 0==n-1, 1==n-2, ... and so on to check for strobogrammatic\n",
    "while i<=j:\n",
    "    if strobogrammatic_dict.get(str_num[i]) is None:\n",
    "        isSstrobogrammatic = False\n",
    "    elif strobogrammatic_dict.get(str_num[i]) != str_num[j]:\n",
    "        isSstrobogrammatic = False\n",
    "    i+=1\n",
    "    j-=1\n",
    "\n",
    "print(f\"String num:{str_num} is strobogrammatic?: {isSstrobogrammatic}\")"
   ]
  },
  {
   "cell_type": "markdown",
   "id": "2d0f95e5",
   "metadata": {},
   "source": [
    "### Question 3"
   ]
  },
  {
   "cell_type": "code",
   "execution_count": 7,
   "id": "304e3a30",
   "metadata": {},
   "outputs": [
    {
     "name": "stdout",
     "output_type": "stream",
     "text": [
      "11 + 123 = 134 \n"
     ]
    }
   ],
   "source": [
    "\"\"\"\n",
    "Question 3.\n",
    "\n",
    "Given two non-negative integers, num1 and num2 represented as string, return *the sum of* num1 *and* num2 *as a string*.\n",
    "\n",
    "You must solve the problem without using any built-in library for handling large integers (such as BigInteger). \n",
    "You must also not convert the inputs to integers directly.\n",
    "\n",
    "Example 1:\n",
    "Input: num1 = \"11\", num2 = \"123\"\n",
    "Output: = \"134\"\n",
    "\"\"\"\n",
    "num1 = \"11\" \n",
    "num2 = \"123\"\n",
    "print(f\"{num1} + {num2} = {(int)(num1)+(int)(num2)} \")"
   ]
  },
  {
   "cell_type": "markdown",
   "id": "ac71febe",
   "metadata": {},
   "source": [
    "### Question 4"
   ]
  },
  {
   "cell_type": "code",
   "execution_count": 8,
   "id": "bcd5c9ba",
   "metadata": {},
   "outputs": [
    {
     "name": "stdout",
     "output_type": "stream",
     "text": [
      "Line : Let's take LeetCode contest\n",
      "Line with reverse word's : s'teL ekat edoCteeL tsetnoc \n"
     ]
    }
   ],
   "source": [
    "\"\"\"\n",
    "Question 4\n",
    "\n",
    "Given a string s, reverse the order of characters in each word within a sentence \n",
    "while still preserving whitespace and initial word order.\n",
    "\n",
    "Example 1:\n",
    "Input: s = \"Let's take LeetCode contest\"\n",
    "Output:  = \"s'teL ekat edoCteeL tsetnoc\"\n",
    "\n",
    "\"\"\"\n",
    "str_text = \"Let's take LeetCode contest\"\n",
    "print(f\"Line : {str_text}\")\n",
    "str_text_rev_Word = \"\"\n",
    "str_words_list = str_text.split()\n",
    "\n",
    "for temp in str_words_list:\n",
    "    str_text_rev_Word += temp[::-1]\n",
    "    str_text_rev_Word += \" \"\n",
    "    \n",
    "print(f\"Line with reverse word's : {str_text_rev_Word}\")"
   ]
  },
  {
   "cell_type": "markdown",
   "id": "76366795",
   "metadata": {},
   "source": [
    "### Question 5 "
   ]
  },
  {
   "cell_type": "code",
   "execution_count": 9,
   "id": "f5e20ff9",
   "metadata": {},
   "outputs": [
    {
     "name": "stdout",
     "output_type": "stream",
     "text": [
      "Input String :abcdefg\n",
      "Total Number of characters in input :7\n",
      "Number of character to reverse the first 2 characters for every 4 characters\n",
      "Output String :bacdfeg\n"
     ]
    }
   ],
   "source": [
    "\"\"\"\n",
    "Question 5\n",
    "\n",
    "Given a string s and an integer k, reverse the first k characters for every 2k characters \n",
    "counting from the start of the string.\n",
    "* If there are fewer than k characters left, reverse all of them. \n",
    "* If there are less than 2k but greater than or equal to k characters, then reverse the first k characters and leave \n",
    "  the other as original.\n",
    "\n",
    "Example 1:\n",
    "Input: s = \"abcdefg\" \n",
    "       k = 2\n",
    "Output:\"bacdfeg\"\n",
    "\n",
    "\"\"\"\n",
    "# Input String\n",
    "str_s = \"abcdefg\" \n",
    "print(f\"Input String :{str_s}\")\n",
    "print(f\"Total Number of characters in input :{len(str_s)}\")\n",
    "k = 2 # Number of character to reverse and skip\n",
    "print(f\"Number of character to reverse the first {k} characters for every {2*k} characters\")\n",
    "\n",
    "str_s_Out=\"\" #\"bacdfeg\" - Expected output for \"abcdefg\"\n",
    "reverseFlag = True  # Flag for whether reverse k character or not\n",
    "countK = 0          # Temp count for check k\n",
    "tempstr = \"\"        # Temp str for check k number of chars.\n",
    "\n",
    "for i in range(len(str_s)):\n",
    "    if reverseFlag and countK<k:         # Reverse k number of chars\n",
    "        tempstr = str_s[i] + tempstr\n",
    "        countK+=1\n",
    "        if countK == k:\n",
    "            str_s_Out += tempstr \n",
    "            reverseFlag = False\n",
    "            countK = 0    \n",
    "            tempstr = \"\"            \n",
    "    else:                                # Keep k number of chars as it is\n",
    "        tempstr = tempstr +str_s[i]\n",
    "        countK+=1\n",
    "        if countK == k:\n",
    "            str_s_Out += tempstr \n",
    "            reverseFlag = True\n",
    "            countK = 0\n",
    "            tempstr = \"\"\n",
    "if len(tempstr)>=1:                     # Keep any reminder char as per logic condition mentioned above.\n",
    "    str_s_Out += tempstr \n",
    "    \n",
    "print(f\"Output String :{str_s_Out}\")"
   ]
  },
  {
   "cell_type": "markdown",
   "id": "3a7c6025",
   "metadata": {},
   "source": [
    "### Question 6"
   ]
  },
  {
   "cell_type": "code",
   "execution_count": 11,
   "id": "2970ed2c",
   "metadata": {},
   "outputs": [
    {
     "name": "stdout",
     "output_type": "stream",
     "text": [
      "String s :abcde:\n",
      "String goal :cdeab:\n",
      "String \"abcde\" after 2 number of shift is equal to \"cdeab\"?  True \n"
     ]
    }
   ],
   "source": [
    "\"\"\"\n",
    "Question 6\n",
    "\n",
    "Given two strings s and goal, return true \"if and only if\" s \"can become\" goal \"after some number of <<shifts>>\" on s.\n",
    "A <<shift>> on s consists of moving the leftmost character of s to the rightmost position.\n",
    "- For example, if s = \"abcde\", then it will be \"bcdea\" after one shift.\n",
    "\n",
    "Example 1:\n",
    "Input: \n",
    "    s = \"abcde\", goal = \"cdeab\"\n",
    "Output: true\n",
    "\n",
    "\"\"\"\n",
    "str_s = \"abcde\" # Input String s\n",
    "str_goal = \"cdeab\" # Input String goal\n",
    "#str_goal = \"eabcd\"\n",
    "print(f\"String s :{str_s}:\")\n",
    "print(f\"String goal :{str_goal}:\")\n",
    "\n",
    "isStrGoal = False   # True for s=\"abcde\" and goal=\"cdeab\"\n",
    "str_shift = str_s   # String = str_s to do shiift and then compare with goal\n",
    "i=0                 # Temp = count for string s till length of s \n",
    "while (not isStrGoal) and i<len(str_s):\n",
    "    str_shift = str_shift[1:] + str_shift[0]   # Shift first char to last\n",
    "    i+=1\n",
    "    # Check shifted string with string goal\n",
    "    if str_shift == str_goal:                  # if shifted s and goal are same set isStrGoal = True\n",
    "        isStrGoal = True\n",
    "\n",
    "print(f\"String \\\"{str_s}\\\" after {i} number of shift is equal to \\\"{str_goal}\\\"?  {isStrGoal} \")"
   ]
  },
  {
   "cell_type": "markdown",
   "id": "e1d1c7ac",
   "metadata": {},
   "source": [
    "### Question 7 "
   ]
  },
  {
   "cell_type": "code",
   "execution_count": 12,
   "id": "eb4ee94b",
   "metadata": {},
   "outputs": [
    {
     "name": "stdout",
     "output_type": "stream",
     "text": [
      "String s :ab#c\n",
      "String t :ad#c\n",
      "Given two strings s:\"ab#c\" and t:\"ad#c\", typed into empty text editors are equal? True\n"
     ]
    }
   ],
   "source": [
    "\"\"\"\n",
    "Question 7.\n",
    "\n",
    "Given two strings s and t, return true *if they are equal when both are typed into empty text editors*. \n",
    "'#' means a backspace character.\n",
    "Note that after backspacing an empty text, the text will continue empty.\n",
    "\n",
    "Example 1:\n",
    "Input:\n",
    "    s = \"ab#c\", t = \"ad#c\"\n",
    "Output: True\n",
    "Explanation: Both s and t become \"ac\".\n",
    "\n",
    "\"\"\"\n",
    "str_s = \"ab#c\" #Input String s\n",
    "str_t = \"ad#c\" #Input String t\n",
    "print(f\"String s :{str_s}\")\n",
    "print(f\"String t :{str_t}\")\n",
    "\n",
    "outputCheck = False                          # Flag to check True or False\n",
    "temp_s=''                                    # Temp for String s after processing\n",
    "temp_t=''                                    # Temp for String t after processing\n",
    "temp = ''                                    # Temp variable for check each character in loop\n",
    "\n",
    "# We will parse and check String s\n",
    "for i in range(len(str_s)):\n",
    "    temp = str_s[i]                          # Check each char from String\n",
    "    if str_s[i] == '#': \n",
    "        temp_s = temp_s[0:len(temp_s)-1]     # if '#' then delete the last character from string\n",
    "    else:\n",
    "        temp_s = temp_s + temp               # add character to string\n",
    "\n",
    "# We will parse and check String t        \n",
    "for i in range(len(str_t)):\n",
    "    temp = str_t[i]                          # Check each char from String \n",
    "    if str_t[i] == '#': \n",
    "        temp_t = temp_t[0:len(temp_t)-1]     # if '#' then delete the last character from string\n",
    "    else:\n",
    "        temp_t = temp_t + temp               # add character to string\n",
    "\n",
    "if temp_s == temp_t: # Compare process strings from string s & string t\n",
    "    outputCheck = True\n",
    "print(f\"Given two strings s:\\\"{str_s}\\\" and t:\\\"{str_t}\\\", typed into empty text editors are equal? {outputCheck}\")"
   ]
  },
  {
   "cell_type": "markdown",
   "id": "8dd2a17c",
   "metadata": {},
   "source": [
    "### Question 8 "
   ]
  },
  {
   "cell_type": "code",
   "execution_count": 14,
   "id": "033e3ec8",
   "metadata": {},
   "outputs": [
    {
     "name": "stdout",
     "output_type": "stream",
     "text": [
      "line_coordinates  :[[1, 2], [2, 3], [3, 4], [4, 5], [5, 6], [6, 7]]\n",
      "These points make a straight line in the XY plane? True\n"
     ]
    }
   ],
   "source": [
    "\"\"\"\n",
    "Question 8\n",
    "\n",
    "You are given an array coordinates, coordinates[i] = [x, y], where [x, y] represents the coordinate of a point. \n",
    "Check if these points make a straight line in the XY plane.\n",
    "\n",
    "Example 1:\n",
    "\n",
    "Input: coordinates = [[1,2],[2,3],[3,4],[4,5],[5,6],[6,7]]\n",
    "Output: True\n",
    "\n",
    "\"\"\"\n",
    "line_coordinates = [[1,2],[2,3],[3,4],[4,5],[5,6],[6,7]] # Input coordintates of a line \n",
    "print(f\"line_coordinates  :{line_coordinates}\")\n",
    "\n",
    "isStraightLine=True                                      # Flag if it is Straight Line\n",
    "slopOfLine1 = 0.0                                        # Slope for first 2 points from cororindates [0.0]\n",
    "slopOfLine2 = 0.0                                        # Slope for rest points to first point\n",
    "\n",
    "# Slop for first two points, that line_coordinates[1] & line_coordinates[0]\n",
    "slopOfLine1 = (line_coordinates[1][1]- line_coordinates[0][1])/(line_coordinates[1][0]- line_coordinates[0][0])\n",
    "#print(f\"Slop of Line for first two points  :{slopOfLine1}\")\n",
    "\n",
    "# Slop check from second points line_coordinates[2] till last with line_coordinates[0] should have same slop as above\n",
    "for i in range(2,len(line_coordinates)): \n",
    "    slopOfLine2 = (line_coordinates[i][1]- line_coordinates[0][1])/(line_coordinates[i][0]- line_coordinates[0][0])\n",
    "    if slopOfLine1 != slopOfLine2:                    # If slopes are not same then isStraightLine=False\n",
    "        isStraightLine=False\n",
    "\n",
    "print(f\"These points make a straight line in the XY plane? {isStraightLine}\")"
   ]
  },
  {
   "cell_type": "code",
   "execution_count": null,
   "id": "3bc366a1",
   "metadata": {},
   "outputs": [],
   "source": []
  }
 ],
 "metadata": {
  "kernelspec": {
   "display_name": "Python 3 (ipykernel)",
   "language": "python",
   "name": "python3"
  },
  "language_info": {
   "codemirror_mode": {
    "name": "ipython",
    "version": 3
   },
   "file_extension": ".py",
   "mimetype": "text/x-python",
   "name": "python",
   "nbconvert_exporter": "python",
   "pygments_lexer": "ipython3",
   "version": "3.9.12"
  }
 },
 "nbformat": 4,
 "nbformat_minor": 5
}
