{
 "cells": [
  {
   "cell_type": "markdown",
   "id": "4d44b7a5",
   "metadata": {},
   "source": [
    "# PPT - DSA - Mock Test 3 - Python\n",
    "\n",
    "## Sarang A Gurao\n",
    "\n",
    "### gurao.sarang@gmail.com"
   ]
  },
  {
   "cell_type": "code",
   "execution_count": 1,
   "id": "e2b00dd5",
   "metadata": {},
   "outputs": [
    {
     "name": "stdout",
     "output_type": "stream",
     "text": [
      "Stack Initialize [], Type:<class 'list'>\n",
      "Is Stack Empty? True\n",
      "\n",
      "Adding elements to stack in order of 1,2,3,4,5 \n",
      "Stack :[1, 2, 3, 4, 5]\n",
      "\n",
      "Pop item from stack :5\n",
      "Pop item from stack :4\n",
      "Pop item from stack :3\n",
      "\n",
      "Existing Stack :[1, 2]\n",
      "Is Stack Empty? False\n"
     ]
    }
   ],
   "source": [
    "\"\"\"\n",
    "Question 1:\n",
    "Implement a stack using a list in Python. Include the necessary methods such as push, pop, and isEmpty.\n",
    "\n",
    "\"\"\"\n",
    "# Method to check if stack is Empty or not. Returns True/False.\n",
    "def isEmpty(stackL) -> bool:\n",
    "    stackEmpty=False\n",
    "    if stackL is not None:\n",
    "        temp = len(stackL)\n",
    "        if temp==0:\n",
    "            stackEmpty=True\n",
    "    return stackEmpty\n",
    "\n",
    "# Initializing stack using List\n",
    "stackList = []\n",
    "print(f\"Stack Initialize {stackList}, Type:{type(stackList)}\")\n",
    "print(f\"Is Stack Empty? {isEmpty(stackList)}\")\n",
    "print(f\"\")\n",
    "# Adding Element to stack 1,2,3,4,5\n",
    "print(f\"Adding elements to stack in order of 1,2,3,4,5 \")\n",
    "for i in range(1,6):\n",
    "    stackList.append(i)\n",
    "print(f\"Stack :{stackList}\")\n",
    "print(f\"\")\n",
    "# Deleting 3 elements using pop method using LIFO - Last In First Out\n",
    "print(f\"Pop item from stack :{stackList.pop()}\")\n",
    "print(f\"Pop item from stack :{stackList.pop()}\")\n",
    "print(f\"Pop item from stack :{stackList.pop()}\")\n",
    "print(f\"\")\n",
    "# Displaying Stack\n",
    "print(f\"Existing Stack :{stackList}\")\n",
    "# Check whether Stack is Empty?\n",
    "print(f\"Is Stack Empty? {isEmpty(stackList)}\")"
   ]
  },
  {
   "cell_type": "code",
   "execution_count": 2,
   "id": "57d5c3e0",
   "metadata": {},
   "outputs": [
    {
     "name": "stdout",
     "output_type": "stream",
     "text": [
      "Queue Initialize [], Type:<class 'list'>\n",
      "Is Queue Empty? True\n",
      "\n",
      "Adding elements to Queue in order of 1,2,3,4,5,6,7 \n",
      "Queue :[1, 2, 3, 4, 5, 6, 7]\n",
      "\n",
      "Pop item from Queue :1\n",
      "Pop item from Queue :2\n",
      "Pop item from Queue :3\n",
      "Pop item from Queue :4\n",
      "Pop item from Queue :5\n",
      "\n",
      "Existing Queue :[6, 7]\n",
      "Is Queue Empty? False\n"
     ]
    }
   ],
   "source": [
    "\"\"\"\n",
    "Question 2:\n",
    "Implement a queue using a list in Python. Include the necessary methods such as enqueue, dequeue, and isEmpty.\n",
    "\n",
    "\"\"\"\n",
    "# Method to check if Queue is Empty or not. Returns True/False.\n",
    "def isEmpty(queueL) -> bool:\n",
    "    queueEmpty=False\n",
    "    if queueL is not None:\n",
    "        temp = len(queueL)\n",
    "        if temp==0:\n",
    "            queueEmpty=True\n",
    "    return queueEmpty\n",
    "\n",
    "# Initializing queue using List \n",
    "queueL = []\n",
    "\n",
    "print(f\"Queue Initialize {queueL}, Type:{type(queueL)}\")\n",
    "print(f\"Is Queue Empty? {isEmpty(queueL)}\")\n",
    "print(f\"\")\n",
    "# Adding Element to Queue 1,2,3,4,5,6,7\n",
    "print(f\"Adding elements to Queue in order of 1,2,3,4,5,6,7 \")\n",
    "for i in range(1,8):\n",
    "    queueL.append(i)\n",
    "print(f\"Queue :{queueL}\")\n",
    "print(f\"\")\n",
    "# Deleting 5 elements using pop method using FIFO - First In First Out\n",
    "print(f\"Pop item from Queue :{queueL.pop(0)}\")\n",
    "print(f\"Pop item from Queue :{queueL.pop(0)}\")\n",
    "print(f\"Pop item from Queue :{queueL.pop(0)}\")\n",
    "print(f\"Pop item from Queue :{queueL.pop(0)}\")\n",
    "print(f\"Pop item from Queue :{queueL.pop(0)}\")\n",
    "print(f\"\")\n",
    "# Displaying Queue\n",
    "print(f\"Existing Queue :{queueL}\")\n",
    "# Check whether Queue is Empty?\n",
    "print(f\"Is Queue Empty? {isEmpty(stackList)}\")"
   ]
  },
  {
   "cell_type": "code",
   "execution_count": null,
   "id": "bd8bc672",
   "metadata": {},
   "outputs": [],
   "source": []
  }
 ],
 "metadata": {
  "kernelspec": {
   "display_name": "Python 3 (ipykernel)",
   "language": "python",
   "name": "python3"
  },
  "language_info": {
   "codemirror_mode": {
    "name": "ipython",
    "version": 3
   },
   "file_extension": ".py",
   "mimetype": "text/x-python",
   "name": "python",
   "nbconvert_exporter": "python",
   "pygments_lexer": "ipython3",
   "version": "3.9.12"
  }
 },
 "nbformat": 4,
 "nbformat_minor": 5
}
